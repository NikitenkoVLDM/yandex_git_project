{
 "cells": [
  {
   "cell_type": "markdown",
   "metadata": {},
   "source": [
    "link GitHub: https://github.com/NikitenkoVLDM/yandex_git_project"
   ]
  },
  {
   "cell_type": "markdown",
   "metadata": {},
   "source": [
    "# Отток клиентов"
   ]
  },
  {
   "cell_type": "markdown",
   "metadata": {},
   "source": [
    "Из «Бета-Банка» стали уходить клиенты. Каждый месяц. Немного, но заметно. Банковские маркетологи посчитали: сохранять текущих клиентов дешевле, чем привлекать новых.\n",
    "\n",
    "Нужно спрогнозировать, уйдёт клиент из банка в ближайшее время или нет. Вам предоставлены исторические данные о поведении клиентов и расторжении договоров с банком. \n",
    "\n",
    "Постройте модель с предельно большим значением *F1*-меры. Чтобы сдать проект успешно, нужно довести метрику до 0.59. Проверьте *F1*-меру на тестовой выборке самостоятельно.\n",
    "\n",
    "Дополнительно измеряйте *AUC-ROC*, сравнивайте её значение с *F1*-мерой.\n",
    "\n",
    "Источник данных: [https://www.kaggle.com/barelydedicated/bank-customer-churn-modeling](https://www.kaggle.com/barelydedicated/bank-customer-churn-modeling)"
   ]
  },
  {
   "cell_type": "markdown",
   "metadata": {},
   "source": [
    "**Цель проекта:** \n",
    "\n",
    "1. Изучить данные\n",
    "2. Разбить данные на выборки\n",
    "3. Разработать модель основанную на обучении с учителем для решения задачи классификации\n",
    "4. Модель должна быть с предельно большим значением F1-меры\n",
    "5. Проверить модель\n",
    "5. Измерить AUC-ROC и сравнить её значение с F1-мерой\n",
    "\n",
    "Данные находятся в файле ***/datasets/Churn.csv*** или ***https://code.s3.yandex.net/datasets/Churn.csv***. Перед работой с данными следует их изучить т.к. в них могут быть ошибки. Если они имеются, то они будут устранены.\n",
    "\n",
    "   **Ход выполнения проекта:**\n",
    "   \n",
    "   - Загрузка данных и их изучение\n",
    "   - Разбитие данных на выборки\n",
    "   - Создание модели \n",
    "   - Исседование модели\n",
    "   - Проверка модели на тестовой выборке (F1-мера должна быть выше либо равна 0.59)\n",
    "   - Проверка модели на адекватность\n",
    "   - Измерить AUC-ROC\n",
    "\n",
    "На основе проведенной работы будут сформированы выводы"
   ]
  },
  {
   "cell_type": "markdown",
   "metadata": {},
   "source": [
    "## Подготовка данных"
   ]
  },
  {
   "cell_type": "markdown",
   "metadata": {},
   "source": [
    "### Обзор данных"
   ]
  },
  {
   "cell_type": "code",
   "execution_count": 1,
   "metadata": {},
   "outputs": [],
   "source": [
    "# Загрузка библиотек\n",
    "import pandas as pd\n",
    "import numpy as np\n",
    "import matplotlib.pyplot as plt\n",
    "from sklearn.model_selection import train_test_split # разделение модели на выборки\n",
    "from sklearn.tree import DecisionTreeClassifier # алгоритм решающего дерева\n",
    "from sklearn.ensemble import RandomForestClassifier # алгоритм случайного леса\n",
    "from sklearn.linear_model import LogisticRegression # алгоритм логической регрессии\n",
    "from sklearn.metrics import accuracy_score # функция вычисления метрики качества accuracy\n",
    "from sklearn.preprocessing import StandardScaler # масштабирование\n",
    "from sklearn.dummy import DummyClassifier # оценка для задач классификации (провека на адекватность)\n",
    "from sklearn.metrics import f1_score # f1-мера (среднее гармоническое полноты и точности)\n",
    "from sklearn.metrics import roc_curve, roc_auc_score  # roc-кривая (кривая ошибок)\n",
    "from sklearn.utils import shuffle # функция \"перетасовать\""
   ]
  },
  {
   "cell_type": "code",
   "execution_count": 2,
   "metadata": {},
   "outputs": [],
   "source": [
    "# Загрузка файла\n",
    "try:\n",
    "    data = pd.read_csv('/datasets/Churn.csv')\n",
    "except:\n",
    "    data = pd.read_csv('https://code.s3.yandex.net/datasets/Churn.csv')"
   ]
  },
  {
   "cell_type": "code",
   "execution_count": 3,
   "metadata": {},
   "outputs": [
    {
     "name": "stdout",
     "output_type": "stream",
     "text": [
      "<class 'pandas.core.frame.DataFrame'>\n",
      "RangeIndex: 10000 entries, 0 to 9999\n",
      "Data columns (total 14 columns):\n",
      " #   Column           Non-Null Count  Dtype  \n",
      "---  ------           --------------  -----  \n",
      " 0   RowNumber        10000 non-null  int64  \n",
      " 1   CustomerId       10000 non-null  int64  \n",
      " 2   Surname          10000 non-null  object \n",
      " 3   CreditScore      10000 non-null  int64  \n",
      " 4   Geography        10000 non-null  object \n",
      " 5   Gender           10000 non-null  object \n",
      " 6   Age              10000 non-null  int64  \n",
      " 7   Tenure           9091 non-null   float64\n",
      " 8   Balance          10000 non-null  float64\n",
      " 9   NumOfProducts    10000 non-null  int64  \n",
      " 10  HasCrCard        10000 non-null  int64  \n",
      " 11  IsActiveMember   10000 non-null  int64  \n",
      " 12  EstimatedSalary  10000 non-null  float64\n",
      " 13  Exited           10000 non-null  int64  \n",
      "dtypes: float64(3), int64(8), object(3)\n",
      "memory usage: 1.1+ MB\n"
     ]
    }
   ],
   "source": [
    "# Вывод информации о данных\n",
    "data.info()"
   ]
  },
  {
   "cell_type": "code",
   "execution_count": 4,
   "metadata": {
    "scrolled": false
   },
   "outputs": [
    {
     "data": {
      "text/html": [
       "<div>\n",
       "<style scoped>\n",
       "    .dataframe tbody tr th:only-of-type {\n",
       "        vertical-align: middle;\n",
       "    }\n",
       "\n",
       "    .dataframe tbody tr th {\n",
       "        vertical-align: top;\n",
       "    }\n",
       "\n",
       "    .dataframe thead th {\n",
       "        text-align: right;\n",
       "    }\n",
       "</style>\n",
       "<table border=\"1\" class=\"dataframe\">\n",
       "  <thead>\n",
       "    <tr style=\"text-align: right;\">\n",
       "      <th></th>\n",
       "      <th>RowNumber</th>\n",
       "      <th>CustomerId</th>\n",
       "      <th>Surname</th>\n",
       "      <th>CreditScore</th>\n",
       "      <th>Geography</th>\n",
       "      <th>Gender</th>\n",
       "      <th>Age</th>\n",
       "      <th>Tenure</th>\n",
       "      <th>Balance</th>\n",
       "      <th>NumOfProducts</th>\n",
       "      <th>HasCrCard</th>\n",
       "      <th>IsActiveMember</th>\n",
       "      <th>EstimatedSalary</th>\n",
       "      <th>Exited</th>\n",
       "    </tr>\n",
       "  </thead>\n",
       "  <tbody>\n",
       "    <tr>\n",
       "      <th>0</th>\n",
       "      <td>1</td>\n",
       "      <td>15634602</td>\n",
       "      <td>Hargrave</td>\n",
       "      <td>619</td>\n",
       "      <td>France</td>\n",
       "      <td>Female</td>\n",
       "      <td>42</td>\n",
       "      <td>2.0</td>\n",
       "      <td>0.00</td>\n",
       "      <td>1</td>\n",
       "      <td>1</td>\n",
       "      <td>1</td>\n",
       "      <td>101348.88</td>\n",
       "      <td>1</td>\n",
       "    </tr>\n",
       "    <tr>\n",
       "      <th>1</th>\n",
       "      <td>2</td>\n",
       "      <td>15647311</td>\n",
       "      <td>Hill</td>\n",
       "      <td>608</td>\n",
       "      <td>Spain</td>\n",
       "      <td>Female</td>\n",
       "      <td>41</td>\n",
       "      <td>1.0</td>\n",
       "      <td>83807.86</td>\n",
       "      <td>1</td>\n",
       "      <td>0</td>\n",
       "      <td>1</td>\n",
       "      <td>112542.58</td>\n",
       "      <td>0</td>\n",
       "    </tr>\n",
       "    <tr>\n",
       "      <th>2</th>\n",
       "      <td>3</td>\n",
       "      <td>15619304</td>\n",
       "      <td>Onio</td>\n",
       "      <td>502</td>\n",
       "      <td>France</td>\n",
       "      <td>Female</td>\n",
       "      <td>42</td>\n",
       "      <td>8.0</td>\n",
       "      <td>159660.80</td>\n",
       "      <td>3</td>\n",
       "      <td>1</td>\n",
       "      <td>0</td>\n",
       "      <td>113931.57</td>\n",
       "      <td>1</td>\n",
       "    </tr>\n",
       "    <tr>\n",
       "      <th>3</th>\n",
       "      <td>4</td>\n",
       "      <td>15701354</td>\n",
       "      <td>Boni</td>\n",
       "      <td>699</td>\n",
       "      <td>France</td>\n",
       "      <td>Female</td>\n",
       "      <td>39</td>\n",
       "      <td>1.0</td>\n",
       "      <td>0.00</td>\n",
       "      <td>2</td>\n",
       "      <td>0</td>\n",
       "      <td>0</td>\n",
       "      <td>93826.63</td>\n",
       "      <td>0</td>\n",
       "    </tr>\n",
       "    <tr>\n",
       "      <th>4</th>\n",
       "      <td>5</td>\n",
       "      <td>15737888</td>\n",
       "      <td>Mitchell</td>\n",
       "      <td>850</td>\n",
       "      <td>Spain</td>\n",
       "      <td>Female</td>\n",
       "      <td>43</td>\n",
       "      <td>2.0</td>\n",
       "      <td>125510.82</td>\n",
       "      <td>1</td>\n",
       "      <td>1</td>\n",
       "      <td>1</td>\n",
       "      <td>79084.10</td>\n",
       "      <td>0</td>\n",
       "    </tr>\n",
       "  </tbody>\n",
       "</table>\n",
       "</div>"
      ],
      "text/plain": [
       "   RowNumber  CustomerId   Surname  CreditScore Geography  Gender  Age  \\\n",
       "0          1    15634602  Hargrave          619    France  Female   42   \n",
       "1          2    15647311      Hill          608     Spain  Female   41   \n",
       "2          3    15619304      Onio          502    France  Female   42   \n",
       "3          4    15701354      Boni          699    France  Female   39   \n",
       "4          5    15737888  Mitchell          850     Spain  Female   43   \n",
       "\n",
       "   Tenure    Balance  NumOfProducts  HasCrCard  IsActiveMember  \\\n",
       "0     2.0       0.00              1          1               1   \n",
       "1     1.0   83807.86              1          0               1   \n",
       "2     8.0  159660.80              3          1               0   \n",
       "3     1.0       0.00              2          0               0   \n",
       "4     2.0  125510.82              1          1               1   \n",
       "\n",
       "   EstimatedSalary  Exited  \n",
       "0        101348.88       1  \n",
       "1        112542.58       0  \n",
       "2        113931.57       1  \n",
       "3         93826.63       0  \n",
       "4         79084.10       0  "
      ]
     },
     "execution_count": 4,
     "metadata": {},
     "output_type": "execute_result"
    }
   ],
   "source": [
    "# Вывод первых строк данных\n",
    "data.head()"
   ]
  },
  {
   "cell_type": "code",
   "execution_count": 5,
   "metadata": {},
   "outputs": [],
   "source": [
    "# Удалиение лишних столбцов: RowNumber - т.к. это дублирование индексации строк\n",
    "# И удаление столбца Surname - т.к. скорее всего имя на обучение моделей никак не повлияет, к тому же есть столбец с Id клиента\n",
    "data = data.drop(['RowNumber', 'CustomerId', 'Surname'], axis = 1)"
   ]
  },
  {
   "cell_type": "code",
   "execution_count": 6,
   "metadata": {},
   "outputs": [
    {
     "data": {
      "text/plain": [
       "0"
      ]
     },
     "execution_count": 6,
     "metadata": {},
     "output_type": "execute_result"
    }
   ],
   "source": [
    "# Проверка на явные дубликаты\n",
    "data.duplicated().sum()"
   ]
  },
  {
   "cell_type": "code",
   "execution_count": 7,
   "metadata": {},
   "outputs": [
    {
     "data": {
      "text/plain": [
       "CreditScore          0\n",
       "Geography            0\n",
       "Gender               0\n",
       "Age                  0\n",
       "Tenure             909\n",
       "Balance              0\n",
       "NumOfProducts        0\n",
       "HasCrCard            0\n",
       "IsActiveMember       0\n",
       "EstimatedSalary      0\n",
       "Exited               0\n",
       "dtype: int64"
      ]
     },
     "execution_count": 7,
     "metadata": {},
     "output_type": "execute_result"
    }
   ],
   "source": [
    "# Проверка на пропуски\n",
    "data.isna().sum()"
   ]
  },
  {
   "cell_type": "code",
   "execution_count": 8,
   "metadata": {
    "scrolled": true
   },
   "outputs": [],
   "source": [
    "# Устранение пропусков\n",
    "data['Tenure'] = data['Tenure'].mask(data['Tenure'].isna(), np.random.uniform(1, 10, size=len(data))).astype('int64')"
   ]
  },
  {
   "cell_type": "code",
   "execution_count": 9,
   "metadata": {},
   "outputs": [
    {
     "data": {
      "text/plain": [
       "CreditScore        0\n",
       "Geography          0\n",
       "Gender             0\n",
       "Age                0\n",
       "Tenure             0\n",
       "Balance            0\n",
       "NumOfProducts      0\n",
       "HasCrCard          0\n",
       "IsActiveMember     0\n",
       "EstimatedSalary    0\n",
       "Exited             0\n",
       "dtype: int64"
      ]
     },
     "execution_count": 9,
     "metadata": {},
     "output_type": "execute_result"
    }
   ],
   "source": [
    "# Повторная проверка на пропуски\n",
    "data.isna().sum()"
   ]
  },
  {
   "cell_type": "code",
   "execution_count": 10,
   "metadata": {
    "scrolled": false
   },
   "outputs": [
    {
     "data": {
      "text/html": [
       "<div>\n",
       "<style scoped>\n",
       "    .dataframe tbody tr th:only-of-type {\n",
       "        vertical-align: middle;\n",
       "    }\n",
       "\n",
       "    .dataframe tbody tr th {\n",
       "        vertical-align: top;\n",
       "    }\n",
       "\n",
       "    .dataframe thead th {\n",
       "        text-align: right;\n",
       "    }\n",
       "</style>\n",
       "<table border=\"1\" class=\"dataframe\">\n",
       "  <thead>\n",
       "    <tr style=\"text-align: right;\">\n",
       "      <th></th>\n",
       "      <th>CreditScore</th>\n",
       "      <th>Age</th>\n",
       "      <th>Tenure</th>\n",
       "      <th>Balance</th>\n",
       "      <th>NumOfProducts</th>\n",
       "      <th>HasCrCard</th>\n",
       "      <th>IsActiveMember</th>\n",
       "      <th>EstimatedSalary</th>\n",
       "      <th>Exited</th>\n",
       "    </tr>\n",
       "  </thead>\n",
       "  <tbody>\n",
       "    <tr>\n",
       "      <th>count</th>\n",
       "      <td>10000.000000</td>\n",
       "      <td>10000.000000</td>\n",
       "      <td>10000.000000</td>\n",
       "      <td>10000.000000</td>\n",
       "      <td>10000.000000</td>\n",
       "      <td>10000.00000</td>\n",
       "      <td>10000.000000</td>\n",
       "      <td>10000.000000</td>\n",
       "      <td>10000.000000</td>\n",
       "    </tr>\n",
       "    <tr>\n",
       "      <th>mean</th>\n",
       "      <td>650.528800</td>\n",
       "      <td>38.921800</td>\n",
       "      <td>4.999900</td>\n",
       "      <td>76485.889288</td>\n",
       "      <td>1.530200</td>\n",
       "      <td>0.70550</td>\n",
       "      <td>0.515100</td>\n",
       "      <td>100090.239881</td>\n",
       "      <td>0.203700</td>\n",
       "    </tr>\n",
       "    <tr>\n",
       "      <th>std</th>\n",
       "      <td>96.653299</td>\n",
       "      <td>10.487806</td>\n",
       "      <td>2.864633</td>\n",
       "      <td>62397.405202</td>\n",
       "      <td>0.581654</td>\n",
       "      <td>0.45584</td>\n",
       "      <td>0.499797</td>\n",
       "      <td>57510.492818</td>\n",
       "      <td>0.402769</td>\n",
       "    </tr>\n",
       "    <tr>\n",
       "      <th>min</th>\n",
       "      <td>350.000000</td>\n",
       "      <td>18.000000</td>\n",
       "      <td>0.000000</td>\n",
       "      <td>0.000000</td>\n",
       "      <td>1.000000</td>\n",
       "      <td>0.00000</td>\n",
       "      <td>0.000000</td>\n",
       "      <td>11.580000</td>\n",
       "      <td>0.000000</td>\n",
       "    </tr>\n",
       "    <tr>\n",
       "      <th>25%</th>\n",
       "      <td>584.000000</td>\n",
       "      <td>32.000000</td>\n",
       "      <td>3.000000</td>\n",
       "      <td>0.000000</td>\n",
       "      <td>1.000000</td>\n",
       "      <td>0.00000</td>\n",
       "      <td>0.000000</td>\n",
       "      <td>51002.110000</td>\n",
       "      <td>0.000000</td>\n",
       "    </tr>\n",
       "    <tr>\n",
       "      <th>50%</th>\n",
       "      <td>652.000000</td>\n",
       "      <td>37.000000</td>\n",
       "      <td>5.000000</td>\n",
       "      <td>97198.540000</td>\n",
       "      <td>1.000000</td>\n",
       "      <td>1.00000</td>\n",
       "      <td>1.000000</td>\n",
       "      <td>100193.915000</td>\n",
       "      <td>0.000000</td>\n",
       "    </tr>\n",
       "    <tr>\n",
       "      <th>75%</th>\n",
       "      <td>718.000000</td>\n",
       "      <td>44.000000</td>\n",
       "      <td>7.000000</td>\n",
       "      <td>127644.240000</td>\n",
       "      <td>2.000000</td>\n",
       "      <td>1.00000</td>\n",
       "      <td>1.000000</td>\n",
       "      <td>149388.247500</td>\n",
       "      <td>0.000000</td>\n",
       "    </tr>\n",
       "    <tr>\n",
       "      <th>max</th>\n",
       "      <td>850.000000</td>\n",
       "      <td>92.000000</td>\n",
       "      <td>10.000000</td>\n",
       "      <td>250898.090000</td>\n",
       "      <td>4.000000</td>\n",
       "      <td>1.00000</td>\n",
       "      <td>1.000000</td>\n",
       "      <td>199992.480000</td>\n",
       "      <td>1.000000</td>\n",
       "    </tr>\n",
       "  </tbody>\n",
       "</table>\n",
       "</div>"
      ],
      "text/plain": [
       "        CreditScore           Age        Tenure        Balance  NumOfProducts  \\\n",
       "count  10000.000000  10000.000000  10000.000000   10000.000000   10000.000000   \n",
       "mean     650.528800     38.921800      4.999900   76485.889288       1.530200   \n",
       "std       96.653299     10.487806      2.864633   62397.405202       0.581654   \n",
       "min      350.000000     18.000000      0.000000       0.000000       1.000000   \n",
       "25%      584.000000     32.000000      3.000000       0.000000       1.000000   \n",
       "50%      652.000000     37.000000      5.000000   97198.540000       1.000000   \n",
       "75%      718.000000     44.000000      7.000000  127644.240000       2.000000   \n",
       "max      850.000000     92.000000     10.000000  250898.090000       4.000000   \n",
       "\n",
       "         HasCrCard  IsActiveMember  EstimatedSalary        Exited  \n",
       "count  10000.00000    10000.000000     10000.000000  10000.000000  \n",
       "mean       0.70550        0.515100    100090.239881      0.203700  \n",
       "std        0.45584        0.499797     57510.492818      0.402769  \n",
       "min        0.00000        0.000000        11.580000      0.000000  \n",
       "25%        0.00000        0.000000     51002.110000      0.000000  \n",
       "50%        1.00000        1.000000    100193.915000      0.000000  \n",
       "75%        1.00000        1.000000    149388.247500      0.000000  \n",
       "max        1.00000        1.000000    199992.480000      1.000000  "
      ]
     },
     "execution_count": 10,
     "metadata": {},
     "output_type": "execute_result"
    }
   ],
   "source": [
    "# Описание данных\n",
    "data.describe()"
   ]
  },
  {
   "cell_type": "markdown",
   "metadata": {},
   "source": [
    "### Подготовка признаков"
   ]
  },
  {
   "cell_type": "code",
   "execution_count": 11,
   "metadata": {
    "scrolled": false
   },
   "outputs": [
    {
     "data": {
      "text/html": [
       "<div>\n",
       "<style scoped>\n",
       "    .dataframe tbody tr th:only-of-type {\n",
       "        vertical-align: middle;\n",
       "    }\n",
       "\n",
       "    .dataframe tbody tr th {\n",
       "        vertical-align: top;\n",
       "    }\n",
       "\n",
       "    .dataframe thead th {\n",
       "        text-align: right;\n",
       "    }\n",
       "</style>\n",
       "<table border=\"1\" class=\"dataframe\">\n",
       "  <thead>\n",
       "    <tr style=\"text-align: right;\">\n",
       "      <th></th>\n",
       "      <th>CreditScore</th>\n",
       "      <th>Age</th>\n",
       "      <th>Tenure</th>\n",
       "      <th>Balance</th>\n",
       "      <th>NumOfProducts</th>\n",
       "      <th>HasCrCard</th>\n",
       "      <th>IsActiveMember</th>\n",
       "      <th>EstimatedSalary</th>\n",
       "      <th>Exited</th>\n",
       "      <th>Gender_Male</th>\n",
       "      <th>Geography_Germany</th>\n",
       "      <th>Geography_Spain</th>\n",
       "    </tr>\n",
       "  </thead>\n",
       "  <tbody>\n",
       "    <tr>\n",
       "      <th>0</th>\n",
       "      <td>619</td>\n",
       "      <td>42</td>\n",
       "      <td>2</td>\n",
       "      <td>0.00</td>\n",
       "      <td>1</td>\n",
       "      <td>1</td>\n",
       "      <td>1</td>\n",
       "      <td>101348.88</td>\n",
       "      <td>1</td>\n",
       "      <td>0</td>\n",
       "      <td>0</td>\n",
       "      <td>0</td>\n",
       "    </tr>\n",
       "    <tr>\n",
       "      <th>1</th>\n",
       "      <td>608</td>\n",
       "      <td>41</td>\n",
       "      <td>1</td>\n",
       "      <td>83807.86</td>\n",
       "      <td>1</td>\n",
       "      <td>0</td>\n",
       "      <td>1</td>\n",
       "      <td>112542.58</td>\n",
       "      <td>0</td>\n",
       "      <td>0</td>\n",
       "      <td>0</td>\n",
       "      <td>1</td>\n",
       "    </tr>\n",
       "    <tr>\n",
       "      <th>2</th>\n",
       "      <td>502</td>\n",
       "      <td>42</td>\n",
       "      <td>8</td>\n",
       "      <td>159660.80</td>\n",
       "      <td>3</td>\n",
       "      <td>1</td>\n",
       "      <td>0</td>\n",
       "      <td>113931.57</td>\n",
       "      <td>1</td>\n",
       "      <td>0</td>\n",
       "      <td>0</td>\n",
       "      <td>0</td>\n",
       "    </tr>\n",
       "    <tr>\n",
       "      <th>3</th>\n",
       "      <td>699</td>\n",
       "      <td>39</td>\n",
       "      <td>1</td>\n",
       "      <td>0.00</td>\n",
       "      <td>2</td>\n",
       "      <td>0</td>\n",
       "      <td>0</td>\n",
       "      <td>93826.63</td>\n",
       "      <td>0</td>\n",
       "      <td>0</td>\n",
       "      <td>0</td>\n",
       "      <td>0</td>\n",
       "    </tr>\n",
       "    <tr>\n",
       "      <th>4</th>\n",
       "      <td>850</td>\n",
       "      <td>43</td>\n",
       "      <td>2</td>\n",
       "      <td>125510.82</td>\n",
       "      <td>1</td>\n",
       "      <td>1</td>\n",
       "      <td>1</td>\n",
       "      <td>79084.10</td>\n",
       "      <td>0</td>\n",
       "      <td>0</td>\n",
       "      <td>0</td>\n",
       "      <td>1</td>\n",
       "    </tr>\n",
       "    <tr>\n",
       "      <th>5</th>\n",
       "      <td>645</td>\n",
       "      <td>44</td>\n",
       "      <td>8</td>\n",
       "      <td>113755.78</td>\n",
       "      <td>2</td>\n",
       "      <td>1</td>\n",
       "      <td>0</td>\n",
       "      <td>149756.71</td>\n",
       "      <td>1</td>\n",
       "      <td>1</td>\n",
       "      <td>0</td>\n",
       "      <td>1</td>\n",
       "    </tr>\n",
       "    <tr>\n",
       "      <th>6</th>\n",
       "      <td>822</td>\n",
       "      <td>50</td>\n",
       "      <td>7</td>\n",
       "      <td>0.00</td>\n",
       "      <td>2</td>\n",
       "      <td>1</td>\n",
       "      <td>1</td>\n",
       "      <td>10062.80</td>\n",
       "      <td>0</td>\n",
       "      <td>1</td>\n",
       "      <td>0</td>\n",
       "      <td>0</td>\n",
       "    </tr>\n",
       "    <tr>\n",
       "      <th>7</th>\n",
       "      <td>376</td>\n",
       "      <td>29</td>\n",
       "      <td>4</td>\n",
       "      <td>115046.74</td>\n",
       "      <td>4</td>\n",
       "      <td>1</td>\n",
       "      <td>0</td>\n",
       "      <td>119346.88</td>\n",
       "      <td>1</td>\n",
       "      <td>0</td>\n",
       "      <td>1</td>\n",
       "      <td>0</td>\n",
       "    </tr>\n",
       "    <tr>\n",
       "      <th>8</th>\n",
       "      <td>501</td>\n",
       "      <td>44</td>\n",
       "      <td>4</td>\n",
       "      <td>142051.07</td>\n",
       "      <td>2</td>\n",
       "      <td>0</td>\n",
       "      <td>1</td>\n",
       "      <td>74940.50</td>\n",
       "      <td>0</td>\n",
       "      <td>1</td>\n",
       "      <td>0</td>\n",
       "      <td>0</td>\n",
       "    </tr>\n",
       "    <tr>\n",
       "      <th>9</th>\n",
       "      <td>684</td>\n",
       "      <td>27</td>\n",
       "      <td>2</td>\n",
       "      <td>134603.88</td>\n",
       "      <td>1</td>\n",
       "      <td>1</td>\n",
       "      <td>1</td>\n",
       "      <td>71725.73</td>\n",
       "      <td>0</td>\n",
       "      <td>1</td>\n",
       "      <td>0</td>\n",
       "      <td>0</td>\n",
       "    </tr>\n",
       "  </tbody>\n",
       "</table>\n",
       "</div>"
      ],
      "text/plain": [
       "   CreditScore  Age  Tenure    Balance  NumOfProducts  HasCrCard  \\\n",
       "0          619   42       2       0.00              1          1   \n",
       "1          608   41       1   83807.86              1          0   \n",
       "2          502   42       8  159660.80              3          1   \n",
       "3          699   39       1       0.00              2          0   \n",
       "4          850   43       2  125510.82              1          1   \n",
       "5          645   44       8  113755.78              2          1   \n",
       "6          822   50       7       0.00              2          1   \n",
       "7          376   29       4  115046.74              4          1   \n",
       "8          501   44       4  142051.07              2          0   \n",
       "9          684   27       2  134603.88              1          1   \n",
       "\n",
       "   IsActiveMember  EstimatedSalary  Exited  Gender_Male  Geography_Germany  \\\n",
       "0               1        101348.88       1            0                  0   \n",
       "1               1        112542.58       0            0                  0   \n",
       "2               0        113931.57       1            0                  0   \n",
       "3               0         93826.63       0            0                  0   \n",
       "4               1         79084.10       0            0                  0   \n",
       "5               0        149756.71       1            1                  0   \n",
       "6               1         10062.80       0            1                  0   \n",
       "7               0        119346.88       1            0                  1   \n",
       "8               1         74940.50       0            1                  0   \n",
       "9               1         71725.73       0            1                  0   \n",
       "\n",
       "   Geography_Spain  \n",
       "0                0  \n",
       "1                1  \n",
       "2                0  \n",
       "3                0  \n",
       "4                1  \n",
       "5                1  \n",
       "6                0  \n",
       "7                0  \n",
       "8                0  \n",
       "9                0  "
      ]
     },
     "execution_count": 11,
     "metadata": {},
     "output_type": "execute_result"
    }
   ],
   "source": [
    "# Преобразование категориальных признаков в численные при помощи OHE\n",
    "data_ohe = pd.get_dummies(data, columns = ['Gender', 'Geography'], drop_first=True)\n",
    "data_ohe.head(10)"
   ]
  },
  {
   "cell_type": "code",
   "execution_count": 12,
   "metadata": {},
   "outputs": [],
   "source": [
    "# Извлечение признаков \n",
    "features = data_ohe.drop(['Exited'], axis=1)\n",
    "# Извлечение целевого признака\n",
    "target = data_ohe['Exited']"
   ]
  },
  {
   "cell_type": "code",
   "execution_count": 13,
   "metadata": {},
   "outputs": [],
   "source": [
    "# Разделение данных на обучающую 60% и тестовые выборки 40%\n",
    "features_train, features_test, target_train, target_test = train_test_split(features, target, \n",
    "                                                                            train_size=0.6, random_state=12345)\n",
    "# Разделение данных из 40% тестовой выборки на валидационную 20% и тестовые 20 % выборки \n",
    "features_test, features_val, target_test, target_val = train_test_split(features_test, target_test, \n",
    "                                                                            train_size=0.5, random_state=12345)"
   ]
  },
  {
   "cell_type": "code",
   "execution_count": 14,
   "metadata": {
    "scrolled": false
   },
   "outputs": [
    {
     "name": "stdout",
     "output_type": "stream",
     "text": [
      "Общий размер датафрейма: (10000, 12) \n",
      "\n",
      "Размер обучающих признаков: (6000, 11)\n",
      "Размер обучающего целевого признака: (6000,) \n",
      "\n",
      "Размер валидационных признаков: (2000, 11)\n",
      "Размер валидационного целевого признака: (2000,) \n",
      "\n",
      "Размер тестовых признаков: (2000, 11)\n",
      "Размер тестовго целевого признака: (2000,)\n"
     ]
    }
   ],
   "source": [
    "# Вывод размеров таблиц\n",
    "print(f'Общий размер датафрейма: {data_ohe.shape} \\n')\n",
    "print(f'Размер обучающих признаков: {features_train.shape}')\n",
    "print(f'Размер обучающего целевого признака: {target_train.shape} \\n')\n",
    "print(f'Размер валидационных признаков: {features_val.shape}')\n",
    "print(f'Размер валидационного целевого признака: {target_val.shape} \\n')\n",
    "print(f'Размер тестовых признаков: {features_test.shape}')\n",
    "print(f'Размер тестовго целевого признака: {target_test.shape}')"
   ]
  },
  {
   "cell_type": "code",
   "execution_count": 15,
   "metadata": {},
   "outputs": [
    {
     "name": "stdout",
     "output_type": "stream",
     "text": [
      "(6000, 11)\n",
      "(2000, 11)\n",
      "(2000, 11)\n"
     ]
    }
   ],
   "source": [
    "# Масштабирование количественных признаков для приведения к одинаковому масштабу\n",
    "pd.options.mode.chained_assignment = None\n",
    "\n",
    "numeric = ['CreditScore', 'Age', 'Tenure', 'Balance', 'NumOfProducts', 'EstimatedSalary']\n",
    "\n",
    "scaler = StandardScaler()\n",
    "scaler.fit(features_train[numeric])\n",
    "\n",
    "features_train[numeric] = scaler.transform(features_train[numeric])\n",
    "features_val[numeric] = scaler.transform(features_val[numeric])\n",
    "features_test[numeric] = scaler.transform(features_test[numeric])\n",
    "\n",
    "print(features_train.shape)\n",
    "print(features_val.shape)\n",
    "print(features_test.shape)"
   ]
  },
  {
   "cell_type": "markdown",
   "metadata": {},
   "source": [
    "### Вывод о подготовленных данных:\n",
    "\n",
    "- Представлен датасет о признаках клиентов банка\n",
    "- Датасет состоит из количественных и категориальных столбцов\n",
    "- В данных отсутствуют дубликаты\n",
    "- Убраны столбцы \"RowNumber\", \"CustomerId\" и \"Surname\"\n",
    "- В данных присутствовали  пропуски в столбце \"Tenure\". Пропуски были устранены заглушкой \"0\"\n",
    "- Дополнительно выведено описание данных\n",
    "- Категориальные признаки преобразованы к количественным\n",
    "- Выполнено масштабирование\n",
    "- Данные разделены на обучающую, валидационную и тестовую выборки\n",
    "- Данные готовы к построению моделей"
   ]
  },
  {
   "cell_type": "markdown",
   "metadata": {},
   "source": [
    "## Исследование задачи"
   ]
  },
  {
   "cell_type": "markdown",
   "metadata": {},
   "source": [
    "### Модель решающего дерева"
   ]
  },
  {
   "cell_type": "code",
   "execution_count": 16,
   "metadata": {},
   "outputs": [
    {
     "name": "stdout",
     "output_type": "stream",
     "text": [
      "Лучшая модель решающего дерева: DecisionTreeClassifier(max_depth=6, random_state=12345)\n",
      "f1_score на валидационной выборке: 0.534\n",
      "Depth равно: 6\n"
     ]
    }
   ],
   "source": [
    "# Выбор лучшего гиперпараметра depth (число деревьев) для модели решающего дерева\n",
    "best_model_dt = None\n",
    "best_result_dt = 0\n",
    "best_depth_dt = 0\n",
    "for depth in range(1, 50):\n",
    "    \n",
    "    model = DecisionTreeClassifier(random_state=12345, max_depth=depth)\n",
    "    model.fit(features_train, target_train)\n",
    "    predictions = model.predict(features_val)\n",
    "    result_dt = f1_score(target_val, predictions)\n",
    "    \n",
    "    if result_dt > best_result_dt:\n",
    "        best_model_dt = model\n",
    "        best_result_dt = result_dt\n",
    "        best_depth_dt = depth\n",
    "\n",
    "print(f'Лучшая модель решающего дерева: {best_model_dt}')\n",
    "print(f'f1_score на валидационной выборке: {best_result_dt.round(3)}')\n",
    "print(f'Depth равно: {best_depth_dt}')"
   ]
  },
  {
   "cell_type": "code",
   "execution_count": 17,
   "metadata": {},
   "outputs": [
    {
     "name": "stdout",
     "output_type": "stream",
     "text": [
      "Roc_auc решающего дерева на валидационной выборке: 0.839\n"
     ]
    }
   ],
   "source": [
    "# Расчет AUC-ROC для решающего дерева\n",
    "model = DecisionTreeClassifier(random_state=12345, max_depth=best_depth_dt) \n",
    "model.fit(features_train, target_train) \n",
    "predictions = model.predict(features_val)\n",
    "\n",
    "probabilities_val_dt = model.predict_proba(features_val) # предсказание вероятности\n",
    "probabilities_one_val_dt = probabilities_val_dt[:, 1]\n",
    "\n",
    "roc_auc_dt = roc_auc_score(target_val, probabilities_one_val_dt)\n",
    "\n",
    "print(f'Roc_auc решающего дерева на валидационной выборке: {roc_auc_dt.round(3)}')"
   ]
  },
  {
   "cell_type": "code",
   "execution_count": 18,
   "metadata": {
    "scrolled": false
   },
   "outputs": [
    {
     "data": {
      "image/png": "[encoded data removed]",
      "text/plain": [
       "<Figure size 576x576 with 1 Axes>"
      ]
     },
     "metadata": {
      "needs_background": "light"
     },
     "output_type": "display_data"
    }
   ],
   "source": [
    "# ROC-кривая случайной модели и модели решающего дерева\n",
    "fpr, tpr, thresholds = roc_curve(target_val, probabilities_one_val_dt) \n",
    "plt.rcParams[\"figure.figsize\"] = [8, 8]\n",
    "plt.plot(fpr, tpr)\n",
    "plt.plot([0, 1], [0, 1], linestyle='--')\n",
    "plt.xlim([0.0, 1.0])\n",
    "plt.ylim([0.0, 1.0])\n",
    "plt.xlabel('False Positive Rate')\n",
    "plt.ylabel('True Positive Rate')\n",
    "plt.title('ROC-кривая решающего дерева')\n",
    "plt.grid(True, color='gray')\n",
    "plt.show()"
   ]
  },
  {
   "cell_type": "code",
   "execution_count": 19,
   "metadata": {},
   "outputs": [
    {
     "data": {
      "text/html": [
       "<div>\n",
       "<style scoped>\n",
       "    .dataframe tbody tr th:only-of-type {\n",
       "        vertical-align: middle;\n",
       "    }\n",
       "\n",
       "    .dataframe tbody tr th {\n",
       "        vertical-align: top;\n",
       "    }\n",
       "\n",
       "    .dataframe thead th {\n",
       "        text-align: right;\n",
       "    }\n",
       "</style>\n",
       "<table border=\"1\" class=\"dataframe\">\n",
       "  <thead>\n",
       "    <tr style=\"text-align: right;\">\n",
       "      <th></th>\n",
       "      <th>model</th>\n",
       "      <th>f1</th>\n",
       "      <th>auc_roc</th>\n",
       "    </tr>\n",
       "  </thead>\n",
       "  <tbody>\n",
       "    <tr>\n",
       "      <th>0</th>\n",
       "      <td>DecisionTreeClassifier</td>\n",
       "      <td>0.533742</td>\n",
       "      <td>0.839453</td>\n",
       "    </tr>\n",
       "  </tbody>\n",
       "</table>\n",
       "</div>"
      ],
      "text/plain": [
       "                    model        f1   auc_roc\n",
       "0  DecisionTreeClassifier  0.533742  0.839453"
      ]
     },
     "execution_count": 19,
     "metadata": {},
     "output_type": "execute_result"
    }
   ],
   "source": [
    "# Добавление в таблицу данных модели решающего дерева\n",
    "table_model = pd.DataFrame(columns=['model', 'f1', 'auc_roc'])\n",
    "table_model = table_model.append({'model' : 'DecisionTreeClassifier', 'f1': best_result_dt, 'auc_roc': roc_auc_dt},\n",
    "                                 ignore_index=True)\n",
    "table_model"
   ]
  },
  {
   "cell_type": "markdown",
   "metadata": {},
   "source": [
    "### Модель случайного леса"
   ]
  },
  {
   "cell_type": "code",
   "execution_count": 20,
   "metadata": {},
   "outputs": [
    {
     "name": "stdout",
     "output_type": "stream",
     "text": [
      "Лучшая случайного леса: RandomForestClassifier(max_depth=9, n_estimators=140, random_state=12345)\n",
      "f1_score на валидационной выборке: 0.506\n",
      "Max_depth равно: 9\n",
      "N_estimators равно: 140\n"
     ]
    }
   ],
   "source": [
    "# Для модели случайного леса будут подбираться гиперпараметры:\n",
    "# n_estimators (число деревьев в лесу) и max_depth (глубина дерева)\n",
    "best_model_rf = None\n",
    "best_result_rf = 0\n",
    "best_depth_rf = 0\n",
    "best_n_estimators = 0\n",
    "\n",
    "for n_estimators in range(100, 110):\n",
    "    for depth in range(1, 10):\n",
    "        model = RandomForestClassifier(random_state=12345, max_depth=depth, n_estimators=n_estimators)\n",
    "        model.fit(features_train, target_train)\n",
    "        predictions = model.predict(features_val)\n",
    "        result_rf = f1_score(target_val, predictions)\n",
    "        \n",
    "        if result_rf > best_result_rf:\n",
    "            best_model_rf = model\n",
    "            best_depth_rf = depth\n",
    "            best_n_estimators = n_estimators\n",
    "            best_result_rf = result_rf\n",
    "            \n",
    "print(f'Лучшая случайного леса: {best_model_rf}')\n",
    "print(f'f1_score на валидационной выборке: {best_result_rf.round(3)}')\n",
    "print(f'Max_depth равно: {best_depth_rf}') \n",
    "print(f'N_estimators равно: {best_n_estimators}') "
   ]
  },
  {
   "cell_type": "code",
   "execution_count": 21,
   "metadata": {},
   "outputs": [
    {
     "name": "stdout",
     "output_type": "stream",
     "text": [
      "Roc_auc случайного леса на валидационной выборке: 0.858\n"
     ]
    }
   ],
   "source": [
    "# Расчет AUC-ROC для случайного леса\n",
    "model = RandomForestClassifier(random_state=12345, max_depth=best_depth_rf, n_estimators=best_n_estimators)\n",
    "model.fit(features_train, target_train) \n",
    "predictions = model.predict(features_val)\n",
    "\n",
    "probabilities_val_rf = model.predict_proba(features_val) # предсказание вероятности\n",
    "probabilities_one_val_rf = probabilities_val_rf[:, 1]\n",
    "\n",
    "roc_auc_rf = roc_auc_score(target_val, probabilities_one_val_rf)\n",
    "\n",
    "print(f'Roc_auc случайного леса на валидационной выборке: {roc_auc_rf.round(3)}')"
   ]
  },
  {
   "cell_type": "code",
   "execution_count": 22,
   "metadata": {
    "scrolled": false
   },
   "outputs": [
    {
     "data": {
      "image/png": "[encoded data removed]",
      "text/plain": [
       "<Figure size 576x576 with 1 Axes>"
      ]
     },
     "metadata": {
      "needs_background": "light"
     },
     "output_type": "display_data"
    }
   ],
   "source": [
    "# ROC-кривая случайной модели и модели случайного леса\n",
    "fpr_rf, tpr_rf, thresholds = roc_curve(target_val, probabilities_one_val_rf) \n",
    "plt.rcParams[\"figure.figsize\"] = [10, 5]\n",
    "plt.plot(fpr_rf, tpr_rf)\n",
    "plt.plot([0, 1], [0, 1], linestyle='--')\n",
    "plt.xlim([0.0, 1.0])\n",
    "plt.ylim([0.0, 1.0])\n",
    "plt.xlabel('False Positive Rate')\n",
    "plt.ylabel('True Positive Rate')\n",
    "plt.title('ROC-кривая случайного леса')\n",
    "plt.grid(True, color='gray')\n",
    "plt.show()"
   ]
  },
  {
   "cell_type": "code",
   "execution_count": 23,
   "metadata": {
    "scrolled": true
   },
   "outputs": [
    {
     "data": {
      "text/html": [
       "<div>\n",
       "<style scoped>\n",
       "    .dataframe tbody tr th:only-of-type {\n",
       "        vertical-align: middle;\n",
       "    }\n",
       "\n",
       "    .dataframe tbody tr th {\n",
       "        vertical-align: top;\n",
       "    }\n",
       "\n",
       "    .dataframe thead th {\n",
       "        text-align: right;\n",
       "    }\n",
       "</style>\n",
       "<table border=\"1\" class=\"dataframe\">\n",
       "  <thead>\n",
       "    <tr style=\"text-align: right;\">\n",
       "      <th></th>\n",
       "      <th>model</th>\n",
       "      <th>f1</th>\n",
       "      <th>auc_roc</th>\n",
       "    </tr>\n",
       "  </thead>\n",
       "  <tbody>\n",
       "    <tr>\n",
       "      <th>0</th>\n",
       "      <td>DecisionTreeClassifier</td>\n",
       "      <td>0.533742</td>\n",
       "      <td>0.839453</td>\n",
       "    </tr>\n",
       "    <tr>\n",
       "      <th>1</th>\n",
       "      <td>RandomForestClassifier</td>\n",
       "      <td>0.505564</td>\n",
       "      <td>0.858214</td>\n",
       "    </tr>\n",
       "  </tbody>\n",
       "</table>\n",
       "</div>"
      ],
      "text/plain": [
       "                    model        f1   auc_roc\n",
       "0  DecisionTreeClassifier  0.533742  0.839453\n",
       "1  RandomForestClassifier  0.505564  0.858214"
      ]
     },
     "execution_count": 23,
     "metadata": {},
     "output_type": "execute_result"
    }
   ],
   "source": [
    "# Добавление в таблицу данных модели решающего дерева\n",
    "table_model = table_model.append({'model' : 'RandomForestClassifier', 'f1': best_result_rf, 'auc_roc': roc_auc_rf},\n",
    "                                 ignore_index=True)\n",
    "table_model"
   ]
  },
  {
   "cell_type": "code",
   "execution_count": 24,
   "metadata": {},
   "outputs": [
    {
     "data": {
      "image/png": "[encoded data removed]",
      "text/plain": [
       "<Figure size 864x504 with 1 Axes>"
      ]
     },
     "metadata": {
      "needs_background": "light"
     },
     "output_type": "display_data"
    }
   ],
   "source": [
    "table_model.plot(x='model', kind='bar', figsize=(12,7), fontsize=14)\n",
    "plt.xticks(rotation=0);\n",
    "plt.title('Сравнение моделей'+'\\n', fontsize=20);\n",
    "plt.grid(True, linewidth=0.5, color='gray');"
   ]
  },
  {
   "cell_type": "markdown",
   "metadata": {},
   "source": [
    "### Выводы о исседованных моделях\n",
    "1. Модель решающего дерева с подобранным гиперпараметром Depth = 6 выдает результат:\n",
    "- f1_score на валидационной выборке: 0.534\n",
    "- Roc_auc на валидационной выборке: 0.839\n",
    "2. Модель случайного леса с подобранными гиперпараметрами Max_depth = 9 и n_estimators = 105:\n",
    "- f1_score на валидационной выборке: 0.521\n",
    "- Roc_auc на валидационной выборке: 0.857\n",
    "\n",
    "**Следовательно, лучше всего показала себя модель случайного леса**"
   ]
  },
  {
   "cell_type": "markdown",
   "metadata": {},
   "source": [
    "## Борьба с дисбалансом"
   ]
  },
  {
   "cell_type": "markdown",
   "metadata": {},
   "source": [
    "Для решения проблемы дисбаланса классов следует воспользоваться следующими методами:\n",
    "- взвешиванием классов\n",
    "- увеличением выборки\n",
    "- уменьшением выборки\n",
    "\n",
    "F1-мера поможет выбрать лучший из методов"
   ]
  },
  {
   "cell_type": "markdown",
   "metadata": {},
   "source": [
    "### Взвешивание классов"
   ]
  },
  {
   "cell_type": "code",
   "execution_count": 25,
   "metadata": {},
   "outputs": [
    {
     "name": "stdout",
     "output_type": "stream",
     "text": [
      "Модель решающего дерева при взвешивание классов\n",
      "Roc_auc решающего дерева на валидационной выборке: 0.836\n",
      "f1_score на валидационной выборке: 0.581\n",
      "Depth равно: 5\n"
     ]
    }
   ],
   "source": [
    "# Выбор лучшего гиперпараметра depth (число деревьев) для модели решающего дерева при\n",
    "# взвешивании классов (class_weight='balanced')\n",
    "best_model_dt = None\n",
    "best_result_dt = 0\n",
    "best_depth_dt = 0\n",
    "for depth in range(1, 10):\n",
    "    \n",
    "    model = DecisionTreeClassifier(random_state=12345, max_depth=depth, class_weight='balanced')\n",
    "    model.fit(features_train, target_train)\n",
    "    predictions = model.predict(features_val)\n",
    "    result_dt = f1_score(target_val, predictions)\n",
    "    \n",
    "    if result_dt > best_result_dt:\n",
    "        best_model_dt = model\n",
    "        best_result_dt = result_dt\n",
    "        best_depth_dt = depth\n",
    "     \n",
    "probabilities_val_dt = best_model_dt.predict_proba(features_val) \n",
    "probabilities_one_val_dt = probabilities_val_dt[:, 1]\n",
    "roc_auc_dt = roc_auc_score(target_val, probabilities_one_val_dt)\n",
    "\n",
    "print(f'Модель решающего дерева при взвешивание классов')\n",
    "print(f'Roc_auc решающего дерева на валидационной выборке: {roc_auc_dt.round(3)}')\n",
    "print(f'f1_score на валидационной выборке: {best_result_dt.round(3)}')\n",
    "print(f'Depth равно: {best_depth_dt}')"
   ]
  },
  {
   "cell_type": "code",
   "execution_count": 26,
   "metadata": {},
   "outputs": [
    {
     "name": "stdout",
     "output_type": "stream",
     "text": [
      "Модель случайного леса при взвешивание классов\n",
      "Roc_auc случайного леса на валидационной выборке: 0.849\n",
      "f1_score на валидационной выборке: 0.609\n",
      "Max_depth равно: 7\n",
      "N_estimators равно: 15\n"
     ]
    }
   ],
   "source": [
    "# Для модели случайного леса будут подбираться гиперпараметры:\n",
    "# n_estimators (число деревьев в лесу) и max_depth (глубина дерева)\n",
    "# при взвешивании классов (class_weight='balanced')\n",
    "best_model_rf = None\n",
    "best_result_rf = 0\n",
    "best_depth_rf = 0\n",
    "best_n_estimators = 0\n",
    "\n",
    "for n_estimators in range(1, 20):\n",
    "    for depth in range(1, 10):\n",
    "        model = RandomForestClassifier(random_state=12345, max_depth=depth, n_estimators=n_estimators, class_weight='balanced')\n",
    "        model.fit(features_train, target_train)\n",
    "        predictions = model.predict(features_val)\n",
    "        result_rf = f1_score(target_val, predictions)\n",
    "        \n",
    "        if result_rf > best_result_rf:\n",
    "            best_model_rf = model\n",
    "            best_depth_rf = depth\n",
    "            best_n_estimators = n_estimators\n",
    "            best_result_rf = result_rf\n",
    "           \n",
    "probabilities_val_rf = best_model_rf.predict_proba(features_val)\n",
    "probabilities_one_val_rf = probabilities_val_rf[:, 1]\n",
    "roc_auc_rf = roc_auc_score(target_val, probabilities_one_val_rf)\n",
    "\n",
    "\n",
    "print(f'Модель случайного леса при взвешивание классов')\n",
    "print(f'Roc_auc случайного леса на валидационной выборке: {roc_auc_rf.round(3)}')\n",
    "print(f'f1_score на валидационной выборке: {best_result_rf.round(3)}')\n",
    "print(f'Max_depth равно: {best_depth_rf}') \n",
    "print(f'N_estimators равно: {best_n_estimators}') "
   ]
  },
  {
   "cell_type": "markdown",
   "metadata": {},
   "source": [
    "### Увеличение выборки"
   ]
  },
  {
   "cell_type": "code",
   "execution_count": 27,
   "metadata": {},
   "outputs": [],
   "source": [
    "# функция для увеличения выборки\n",
    "def upsample(features, target, repeat):\n",
    "    features_zeros = features[target == 0]\n",
    "    features_ones = features[target == 1]\n",
    "    target_zeros = target[target == 0]\n",
    "    target_ones = target[target == 1]\n",
    "   \n",
    "    features_upsampled = pd.concat([features_zeros] + [features_ones] * repeat)\n",
    "    target_upsampled = pd.concat([target_zeros] + [target_ones] * repeat)\n",
    "    \n",
    "    features_upsampled, target_upsampled = shuffle(features_upsampled, target_upsampled, random_state=12345)\n",
    "    return features_upsampled, target_upsampled "
   ]
  },
  {
   "cell_type": "code",
   "execution_count": 28,
   "metadata": {},
   "outputs": [
    {
     "name": "stdout",
     "output_type": "stream",
     "text": [
      "Roc_auc случайного леса: 0.841\n",
      "f1_score: 0.591\n"
     ]
    },
    {
     "data": {
      "text/plain": [
       "0    0.501043\n",
       "1    0.498957\n",
       "Name: Exited, dtype: float64"
      ]
     },
     "execution_count": 28,
     "metadata": {},
     "output_type": "execute_result"
    }
   ],
   "source": [
    "# Увеличение выборки модели случайного леса\n",
    "features_upsampled, target_upsampled = upsample(features_train, target_train, 4)\n",
    "model = RandomForestClassifier(random_state=12345, max_depth=9, n_estimators=8)\n",
    "model.fit(features_upsampled, target_upsampled)\n",
    "predicted_val = model.predict(features_val) \n",
    "\n",
    "probabilities_val = model.predict_proba(features_val)\n",
    "probabilities_one_val = probabilities_val[:, 1]\n",
    "\n",
    "roc_auc = roc_auc_score(target_val, probabilities_one_val)\n",
    "\n",
    "print(f'Roc_auc случайного леса: {roc_auc.round(3)}')\n",
    "print(f'f1_score: {f1_score(target_val, predicted_val).round(3)}')\n",
    "\n",
    "target_upsampled.value_counts(normalize=True)"
   ]
  },
  {
   "cell_type": "markdown",
   "metadata": {},
   "source": [
    "### Уменьшение выборки"
   ]
  },
  {
   "cell_type": "code",
   "execution_count": 29,
   "metadata": {},
   "outputs": [],
   "source": [
    "# Функция для уменьшения выборки\n",
    "def downsample(features, target, fraction):\n",
    "    features_zeros = features[target == 0]\n",
    "    features_ones = features[target == 1]\n",
    "    target_zeros = target[target == 0]\n",
    "    target_ones = target[target == 1]\n",
    "\n",
    "    features_downsampled = pd.concat([features_zeros.sample(frac=fraction, random_state=12345)] + [features_ones])\n",
    "    target_downsampled = pd.concat([target_zeros.sample(frac=fraction, random_state=12345)] + [target_ones])\n",
    "    \n",
    "    features_downsampled, target_downsampled = shuffle(features_downsampled, target_downsampled, random_state=12345)\n",
    "    \n",
    "    return features_downsampled, target_downsampled"
   ]
  },
  {
   "cell_type": "code",
   "execution_count": 30,
   "metadata": {},
   "outputs": [
    {
     "name": "stdout",
     "output_type": "stream",
     "text": [
      "Roc_auc случайного леса: 0.841\n",
      "f1_score: 0.569\n"
     ]
    },
    {
     "data": {
      "text/plain": [
       "0    0.501043\n",
       "1    0.498957\n",
       "Name: Exited, dtype: float64"
      ]
     },
     "execution_count": 30,
     "metadata": {},
     "output_type": "execute_result"
    }
   ],
   "source": [
    "# Уменьшение выборки модели случайного леса\n",
    "features_downsampled, target_downsampled = downsample(features_train, target_train, 0.25)\n",
    "\n",
    "model = RandomForestClassifier(random_state=12345, max_depth=9, n_estimators=8)\n",
    "model.fit(features_downsampled, target_downsampled)\n",
    "predicted_val = model.predict(features_val) \n",
    "\n",
    "probabilities_valid = model.predict_proba(features_val)\n",
    "probabilities_one_valid = probabilities_valid[:, 1]\n",
    "\n",
    "roc_auc = roc_auc_score(target_val, probabilities_one_val)\n",
    "\n",
    "print(f'Roc_auc случайного леса: {roc_auc.round(3)}')\n",
    "print(f'f1_score: {f1_score(target_val, predicted_val).round(3)}')\n",
    "target_downsampled.value_counts(normalize=True)"
   ]
  },
  {
   "cell_type": "markdown",
   "metadata": {},
   "source": [
    "### Результаты:\n",
    "Лучше всего себя показал метод взвешенных классов на модели случайного леса.\n",
    "- Roc_auc случайного леса на валидационной выборке: 0.854\n",
    "- f1_score случайного леса на валидационной выборке: 0.61"
   ]
  },
  {
   "cell_type": "markdown",
   "metadata": {},
   "source": [
    "## Тестирование модели"
   ]
  },
  {
   "cell_type": "code",
   "execution_count": 31,
   "metadata": {},
   "outputs": [
    {
     "name": "stdout",
     "output_type": "stream",
     "text": [
      "f1_score: 0.634\n",
      "Roc_auc случайного леса: 0.83\n"
     ]
    }
   ],
   "source": [
    "# Тестирование лучшей модели Случайного леса с гиперапараметрами max_depth = 9, n_estimators = 105\n",
    "best_model_rf = RandomForestClassifier(random_state=12345, max_depth = 9, n_estimators = 105, class_weight='balanced')\n",
    "\n",
    "best_model_rf.fit(features_train, target_train) \n",
    "predictions = best_model_rf.predict(features_test)\n",
    "result = f1_score(target_test, predictions)\n",
    "\n",
    "probabilities = model.predict_proba(features_test)\n",
    "probabilities_one = probabilities[:, 1]\n",
    "\n",
    "roc_auc = roc_auc_score(target_test, probabilities_one) \n",
    "\n",
    "print(f'f1_score: {result.round(3)}')\n",
    "print(f'Roc_auc случайного леса: {roc_auc.round(3)}')"
   ]
  },
  {
   "cell_type": "code",
   "execution_count": 32,
   "metadata": {
    "scrolled": false
   },
   "outputs": [
    {
     "data": {
      "image/png": "[encoded data removed]",
      "text/plain": [
       "<Figure size 576x576 with 1 Axes>"
      ]
     },
     "metadata": {
      "needs_background": "light"
     },
     "output_type": "display_data"
    }
   ],
   "source": [
    "# ROC-кривая случайной модели и лучшей модели случайного леса\n",
    "fpr_rf, tpr_rf, thresholds = roc_curve(target_test, probabilities_one) \n",
    "plt.rcParams[\"figure.figsize\"] = [8, 8]\n",
    "plt.plot(fpr_rf, tpr_rf)\n",
    "plt.plot([0, 1], [0, 1], linestyle='--')\n",
    "plt.xlim([0.0, 1.0])\n",
    "plt.ylim([0.0, 1.0])\n",
    "plt.xlabel('False Positive Rate')\n",
    "plt.ylabel('True Positive Rate')\n",
    "plt.title('ROC-кривая случайного леса')\n",
    "plt.grid(True, color='gray')\n",
    "plt.show()"
   ]
  },
  {
   "cell_type": "markdown",
   "metadata": {},
   "source": [
    "## Выводы:\n",
    "В ходе работы над данным проектом, по оттоку клиентов из банка, было выполнено:\n",
    "- Загрузка и вывод данных\n",
    "- Обзор данных\n",
    "- В данных присутствовали пропуски в столбце \"Tenure\". Пропуски были устранены заглушкой \"0\"\n",
    "- Убраны столбцы \"RowNumber\" и \"Surname\"\n",
    "- Выполнено масштабирование\n",
    "- Выполнено разбитие данных на выборки обучающую, валидационную и тестовую выборки в соотношении 3:1:1\n",
    "- Категориальные признаки преобразованы к количественным\n",
    "- Исследован баланс классов\n",
    "- Изучены модели без учёта дисбаланса\n",
    "- Лучшая модель: Модель случайного леса с подобранными гиперпараметрами max_depth = 9 и n_estimators = 105, где f1_score на валидационной выборке равно 0.521 Roc_auc на валидационной выборке равно 0.857\n",
    "- Учтен дисбаланс классов, были рассмотрены методы: взвешиванием классов, увеличением выборки, уменьшением выборки\n",
    "- Лучший метод дисбаланса классов - взвешивания классов\n",
    "- Было выполнено тестирование модели на тестовой выборке\n",
    "- Удалось достичь *F1*-меры на модели случайного леса с гиперпараметрами max_depth = 9 и n_estimators = 105, class_weight='balanced', где f1_score равно 0.635\n",
    "- Исследована метрика *AUC-ROC* случайного леса, которая равно 0.835"
   ]
  },
  {
   "cell_type": "markdown",
   "metadata": {},
   "source": [
    "## Чек-лист готовности проекта"
   ]
  },
  {
   "cell_type": "markdown",
   "metadata": {},
   "source": [
    "Поставьте 'x' в выполненных пунктах. Далее нажмите Shift+Enter."
   ]
  },
  {
   "cell_type": "markdown",
   "metadata": {},
   "source": [
    "- [x]  Jupyter Notebook открыт\n",
    "- [x]  Весь код выполняется без ошибок\n",
    "- [x]  Ячейки с кодом расположены в порядке исполнения\n",
    "- [x]  Выполнен шаг 1: данные подготовлены\n",
    "- [x]  Выполнен шаг 2: задача исследована\n",
    "    - [x]  Исследован баланс классов\n",
    "    - [x]  Изучены модели без учёта дисбаланса\n",
    "    - [x]  Написаны выводы по результатам исследования\n",
    "- [x]  Выполнен шаг 3: учтён дисбаланс\n",
    "    - [x]  Применено несколько способов борьбы с дисбалансом\n",
    "    - [x]  Написаны выводы по результатам исследования\n",
    "- [x]  Выполнен шаг 4: проведено тестирование\n",
    "- [x]  Удалось достичь *F1*-меры не менее 0.59\n",
    "- [x]  Исследована метрика *AUC-ROC*"
   ]
  }
 ],
 "metadata": {
  "ExecuteTimeLog": [
   {
    "duration": 1065,
    "start_time": "2023-08-17T14:07:31.674Z"
   },
   {
    "duration": 82,
    "start_time": "2023-08-17T14:08:30.777Z"
   },
   {
    "duration": 84,
    "start_time": "2023-08-17T14:09:29.458Z"
   },
   {
    "duration": 13,
    "start_time": "2023-08-17T14:14:59.880Z"
   },
   {
    "duration": 18,
    "start_time": "2023-08-17T14:15:27.607Z"
   },
   {
    "duration": 13,
    "start_time": "2023-08-17T14:15:49.358Z"
   },
   {
    "duration": 13,
    "start_time": "2023-08-17T14:15:54.472Z"
   },
   {
    "duration": 7,
    "start_time": "2023-08-17T14:16:06.178Z"
   },
   {
    "duration": 35,
    "start_time": "2023-08-17T14:16:23.155Z"
   },
   {
    "duration": 109,
    "start_time": "2023-08-17T14:25:30.503Z"
   },
   {
    "duration": 99,
    "start_time": "2023-08-17T14:25:34.746Z"
   },
   {
    "duration": 20,
    "start_time": "2023-08-17T14:25:46.964Z"
   },
   {
    "duration": 4,
    "start_time": "2023-08-17T14:26:07.015Z"
   },
   {
    "duration": 10,
    "start_time": "2023-08-17T14:26:18.054Z"
   },
   {
    "duration": 8,
    "start_time": "2023-08-17T14:47:54.371Z"
   },
   {
    "duration": 4,
    "start_time": "2023-08-17T14:48:07.388Z"
   },
   {
    "duration": 7,
    "start_time": "2023-08-17T14:48:19.126Z"
   },
   {
    "duration": 11,
    "start_time": "2023-08-17T14:48:31.352Z"
   },
   {
    "duration": 13,
    "start_time": "2023-08-17T14:48:46.004Z"
   },
   {
    "duration": 12,
    "start_time": "2023-08-17T14:49:02.123Z"
   },
   {
    "duration": 51,
    "start_time": "2023-08-18T12:06:12.059Z"
   },
   {
    "duration": 1434,
    "start_time": "2023-08-18T12:10:14.922Z"
   },
   {
    "duration": 135,
    "start_time": "2023-08-18T12:10:16.359Z"
   },
   {
    "duration": 21,
    "start_time": "2023-08-18T12:10:16.497Z"
   },
   {
    "duration": 28,
    "start_time": "2023-08-18T12:10:16.520Z"
   },
   {
    "duration": 18,
    "start_time": "2023-08-18T12:10:16.551Z"
   },
   {
    "duration": 8,
    "start_time": "2023-08-18T12:10:16.571Z"
   },
   {
    "duration": 5,
    "start_time": "2023-08-18T12:10:16.580Z"
   },
   {
    "duration": 9,
    "start_time": "2023-08-18T12:10:16.587Z"
   },
   {
    "duration": 76,
    "start_time": "2023-08-18T12:10:16.597Z"
   },
   {
    "duration": 5,
    "start_time": "2023-08-18T12:10:16.675Z"
   },
   {
    "duration": 135,
    "start_time": "2023-08-18T12:10:16.682Z"
   },
   {
    "duration": 18,
    "start_time": "2023-08-18T12:11:24.136Z"
   },
   {
    "duration": 8,
    "start_time": "2023-08-18T12:11:37.918Z"
   },
   {
    "duration": 24,
    "start_time": "2023-08-18T12:16:17.116Z"
   },
   {
    "duration": 33,
    "start_time": "2023-08-18T12:17:54.858Z"
   },
   {
    "duration": 25,
    "start_time": "2023-08-18T12:20:23.485Z"
   },
   {
    "duration": 30,
    "start_time": "2023-08-18T12:21:06.595Z"
   },
   {
    "duration": 19,
    "start_time": "2023-08-18T12:21:37.697Z"
   },
   {
    "duration": 21,
    "start_time": "2023-08-18T12:21:43.216Z"
   },
   {
    "duration": 33,
    "start_time": "2023-08-18T12:22:17.971Z"
   },
   {
    "duration": 42,
    "start_time": "2023-08-18T12:22:30.606Z"
   },
   {
    "duration": 42,
    "start_time": "2023-08-18T12:23:04.370Z"
   },
   {
    "duration": 1138,
    "start_time": "2023-08-18T19:23:12.134Z"
   },
   {
    "duration": 100,
    "start_time": "2023-08-18T19:23:13.274Z"
   },
   {
    "duration": 14,
    "start_time": "2023-08-18T19:23:13.376Z"
   },
   {
    "duration": 27,
    "start_time": "2023-08-18T19:23:13.393Z"
   },
   {
    "duration": 24,
    "start_time": "2023-08-18T19:23:13.422Z"
   },
   {
    "duration": 7,
    "start_time": "2023-08-18T19:23:13.447Z"
   },
   {
    "duration": 10,
    "start_time": "2023-08-18T19:23:13.456Z"
   },
   {
    "duration": 10,
    "start_time": "2023-08-18T19:23:13.467Z"
   },
   {
    "duration": 63,
    "start_time": "2023-08-18T19:23:13.478Z"
   },
   {
    "duration": 5,
    "start_time": "2023-08-18T19:23:13.544Z"
   },
   {
    "duration": 13,
    "start_time": "2023-08-18T19:23:13.550Z"
   },
   {
    "duration": 13,
    "start_time": "2023-08-18T19:23:13.565Z"
   },
   {
    "duration": 29,
    "start_time": "2023-08-18T19:23:13.580Z"
   },
   {
    "duration": 34,
    "start_time": "2023-08-18T21:31:25.214Z"
   },
   {
    "duration": 105,
    "start_time": "2023-08-18T21:43:05.986Z"
   },
   {
    "duration": 8,
    "start_time": "2023-08-18T21:43:21.883Z"
   },
   {
    "duration": 5,
    "start_time": "2023-08-18T21:43:40.147Z"
   },
   {
    "duration": 39,
    "start_time": "2023-08-18T21:43:47.000Z"
   },
   {
    "duration": 1122,
    "start_time": "2023-08-19T10:58:54.997Z"
   },
   {
    "duration": 382,
    "start_time": "2023-08-19T10:58:56.121Z"
   },
   {
    "duration": 14,
    "start_time": "2023-08-19T10:58:56.505Z"
   },
   {
    "duration": 22,
    "start_time": "2023-08-19T10:58:56.521Z"
   },
   {
    "duration": 7,
    "start_time": "2023-08-19T10:58:56.545Z"
   },
   {
    "duration": 14,
    "start_time": "2023-08-19T10:58:56.553Z"
   },
   {
    "duration": 8,
    "start_time": "2023-08-19T10:58:56.569Z"
   },
   {
    "duration": 15,
    "start_time": "2023-08-19T10:58:56.579Z"
   },
   {
    "duration": 15,
    "start_time": "2023-08-19T10:58:56.596Z"
   },
   {
    "duration": 87,
    "start_time": "2023-08-19T10:58:56.613Z"
   },
   {
    "duration": 5,
    "start_time": "2023-08-19T10:58:56.702Z"
   },
   {
    "duration": 123,
    "start_time": "2023-08-19T10:58:56.709Z"
   },
   {
    "duration": 68,
    "start_time": "2023-08-19T10:58:56.834Z"
   },
   {
    "duration": 67,
    "start_time": "2023-08-19T10:58:56.905Z"
   },
   {
    "duration": 100,
    "start_time": "2023-08-19T11:16:11.772Z"
   },
   {
    "duration": 15,
    "start_time": "2023-08-19T11:16:47.952Z"
   },
   {
    "duration": 24,
    "start_time": "2023-08-19T11:16:56.223Z"
   },
   {
    "duration": 19,
    "start_time": "2023-08-19T11:17:07.970Z"
   },
   {
    "duration": 21,
    "start_time": "2023-08-19T11:17:16.179Z"
   },
   {
    "duration": 1145,
    "start_time": "2023-08-19T11:18:35.756Z"
   },
   {
    "duration": 42,
    "start_time": "2023-08-19T11:18:36.904Z"
   },
   {
    "duration": 13,
    "start_time": "2023-08-19T11:18:36.947Z"
   },
   {
    "duration": 19,
    "start_time": "2023-08-19T11:18:36.962Z"
   },
   {
    "duration": 21,
    "start_time": "2023-08-19T11:18:36.983Z"
   },
   {
    "duration": 32,
    "start_time": "2023-08-19T11:18:37.006Z"
   },
   {
    "duration": 17,
    "start_time": "2023-08-19T11:18:37.040Z"
   },
   {
    "duration": 46,
    "start_time": "2023-08-19T11:18:37.059Z"
   },
   {
    "duration": 13,
    "start_time": "2023-08-19T11:18:37.107Z"
   },
   {
    "duration": 40,
    "start_time": "2023-08-19T11:18:37.121Z"
   },
   {
    "duration": 19,
    "start_time": "2023-08-19T11:18:37.162Z"
   },
   {
    "duration": 18,
    "start_time": "2023-08-19T11:18:37.183Z"
   },
   {
    "duration": 13,
    "start_time": "2023-08-19T11:18:37.203Z"
   },
   {
    "duration": 19,
    "start_time": "2023-08-19T11:18:37.218Z"
   },
   {
    "duration": 45,
    "start_time": "2023-08-19T11:18:37.239Z"
   },
   {
    "duration": 126,
    "start_time": "2023-08-19T12:22:01.952Z"
   },
   {
    "duration": 1205,
    "start_time": "2023-08-19T12:22:18.950Z"
   },
   {
    "duration": 44,
    "start_time": "2023-08-19T12:22:20.165Z"
   },
   {
    "duration": 13,
    "start_time": "2023-08-19T12:22:20.212Z"
   },
   {
    "duration": 18,
    "start_time": "2023-08-19T12:22:20.227Z"
   },
   {
    "duration": 5,
    "start_time": "2023-08-19T12:22:20.246Z"
   },
   {
    "duration": 20,
    "start_time": "2023-08-19T12:22:20.253Z"
   },
   {
    "duration": 7,
    "start_time": "2023-08-19T12:22:20.275Z"
   },
   {
    "duration": 9,
    "start_time": "2023-08-19T12:22:20.284Z"
   },
   {
    "duration": 13,
    "start_time": "2023-08-19T12:22:20.295Z"
   },
   {
    "duration": 41,
    "start_time": "2023-08-19T12:22:20.310Z"
   },
   {
    "duration": 25,
    "start_time": "2023-08-19T12:22:20.356Z"
   },
   {
    "duration": 6,
    "start_time": "2023-08-19T12:22:20.383Z"
   },
   {
    "duration": 8,
    "start_time": "2023-08-19T12:22:20.391Z"
   },
   {
    "duration": 18,
    "start_time": "2023-08-19T12:22:20.401Z"
   },
   {
    "duration": 55,
    "start_time": "2023-08-19T12:22:20.421Z"
   },
   {
    "duration": 115,
    "start_time": "2023-08-19T12:22:20.478Z"
   },
   {
    "duration": 17,
    "start_time": "2023-08-19T12:22:46.598Z"
   },
   {
    "duration": 4,
    "start_time": "2023-08-19T12:24:26.983Z"
   },
   {
    "duration": 174,
    "start_time": "2023-08-19T12:24:32.615Z"
   },
   {
    "duration": 175,
    "start_time": "2023-08-19T12:25:20.401Z"
   },
   {
    "duration": 177,
    "start_time": "2023-08-19T12:26:45.446Z"
   },
   {
    "duration": 185,
    "start_time": "2023-08-19T12:27:01.966Z"
   },
   {
    "duration": 19,
    "start_time": "2023-08-19T12:27:27.609Z"
   },
   {
    "duration": 11,
    "start_time": "2023-08-19T12:28:44.886Z"
   },
   {
    "duration": 171,
    "start_time": "2023-08-19T12:28:51.578Z"
   },
   {
    "duration": 171,
    "start_time": "2023-08-19T12:29:19.647Z"
   },
   {
    "duration": 192,
    "start_time": "2023-08-19T12:29:37.717Z"
   },
   {
    "duration": 19,
    "start_time": "2023-08-19T12:31:25.500Z"
   },
   {
    "duration": 200,
    "start_time": "2023-08-19T12:31:37.334Z"
   },
   {
    "duration": 189,
    "start_time": "2023-08-19T12:32:48.397Z"
   },
   {
    "duration": 33,
    "start_time": "2023-08-19T13:27:02.154Z"
   },
   {
    "duration": 33,
    "start_time": "2023-08-19T13:27:13.584Z"
   },
   {
    "duration": 31,
    "start_time": "2023-08-19T13:27:22.272Z"
   },
   {
    "duration": 31,
    "start_time": "2023-08-19T13:28:43.348Z"
   },
   {
    "duration": 4,
    "start_time": "2023-08-19T13:28:48.465Z"
   },
   {
    "duration": 34,
    "start_time": "2023-08-19T13:28:52.592Z"
   },
   {
    "duration": 112,
    "start_time": "2023-08-19T13:29:59.851Z"
   },
   {
    "duration": 5,
    "start_time": "2023-08-19T13:30:10.099Z"
   },
   {
    "duration": 33,
    "start_time": "2023-08-19T13:30:15.344Z"
   },
   {
    "duration": 30,
    "start_time": "2023-08-19T13:30:22.097Z"
   },
   {
    "duration": 31,
    "start_time": "2023-08-19T13:31:23.088Z"
   },
   {
    "duration": 30,
    "start_time": "2023-08-19T13:31:28.040Z"
   },
   {
    "duration": 176,
    "start_time": "2023-08-19T13:31:59.867Z"
   },
   {
    "duration": 28,
    "start_time": "2023-08-19T13:32:03.578Z"
   },
   {
    "duration": 12,
    "start_time": "2023-08-19T13:33:11.971Z"
   },
   {
    "duration": 455,
    "start_time": "2023-08-19T13:33:36.365Z"
   },
   {
    "duration": 134,
    "start_time": "2023-08-19T13:33:40.991Z"
   },
   {
    "duration": 25,
    "start_time": "2023-08-19T13:35:15.773Z"
   },
   {
    "duration": 119,
    "start_time": "2023-08-19T13:35:30.321Z"
   },
   {
    "duration": 137,
    "start_time": "2023-08-19T13:37:08.782Z"
   },
   {
    "duration": 127,
    "start_time": "2023-08-19T13:37:26.805Z"
   },
   {
    "duration": 116,
    "start_time": "2023-08-19T13:38:05.366Z"
   },
   {
    "duration": 152,
    "start_time": "2023-08-19T13:38:17.159Z"
   },
   {
    "duration": 221,
    "start_time": "2023-08-19T13:38:26.197Z"
   },
   {
    "duration": 135,
    "start_time": "2023-08-19T13:38:51.321Z"
   },
   {
    "duration": 147,
    "start_time": "2023-08-19T13:39:05.899Z"
   },
   {
    "duration": 57,
    "start_time": "2023-08-19T13:42:45.508Z"
   },
   {
    "duration": 1834,
    "start_time": "2023-08-19T13:42:58.869Z"
   },
   {
    "duration": 169,
    "start_time": "2023-08-19T13:45:55.900Z"
   },
   {
    "duration": 32,
    "start_time": "2023-08-19T13:46:07.388Z"
   },
   {
    "duration": 27,
    "start_time": "2023-08-19T13:47:09.755Z"
   },
   {
    "duration": 136,
    "start_time": "2023-08-19T13:47:20.320Z"
   },
   {
    "duration": 8264,
    "start_time": "2023-08-19T13:54:48.294Z"
   },
   {
    "duration": 8133,
    "start_time": "2023-08-19T13:57:34.318Z"
   },
   {
    "duration": 62,
    "start_time": "2023-08-19T13:59:16.130Z"
   },
   {
    "duration": 12,
    "start_time": "2023-08-19T14:02:49.562Z"
   },
   {
    "duration": 165,
    "start_time": "2023-08-19T14:02:59.178Z"
   },
   {
    "duration": 163,
    "start_time": "2023-08-19T14:04:25.069Z"
   },
   {
    "duration": 150,
    "start_time": "2023-08-19T14:04:31.448Z"
   },
   {
    "duration": 141,
    "start_time": "2023-08-19T14:04:39.280Z"
   },
   {
    "duration": 143,
    "start_time": "2023-08-19T14:04:43.295Z"
   },
   {
    "duration": 137,
    "start_time": "2023-08-19T14:04:50.146Z"
   },
   {
    "duration": 136,
    "start_time": "2023-08-19T14:05:13.380Z"
   },
   {
    "duration": 8166,
    "start_time": "2023-08-19T14:08:53.429Z"
   },
   {
    "duration": 8207,
    "start_time": "2023-08-19T14:24:47.474Z"
   },
   {
    "duration": 61,
    "start_time": "2023-08-19T14:25:16.277Z"
   },
   {
    "duration": 8083,
    "start_time": "2023-08-19T14:25:21.168Z"
   },
   {
    "duration": 176,
    "start_time": "2023-08-19T14:25:32.306Z"
   },
   {
    "duration": 29,
    "start_time": "2023-08-19T14:25:37.604Z"
   },
   {
    "duration": 8147,
    "start_time": "2023-08-19T14:26:03.430Z"
   },
   {
    "duration": 195,
    "start_time": "2023-08-19T14:31:02.537Z"
   },
   {
    "duration": 231,
    "start_time": "2023-08-19T14:31:29.012Z"
   },
   {
    "duration": 189,
    "start_time": "2023-08-19T14:32:45.546Z"
   },
   {
    "duration": 8341,
    "start_time": "2023-08-19T14:37:27.964Z"
   },
   {
    "duration": 8374,
    "start_time": "2023-08-19T14:38:05.910Z"
   },
   {
    "duration": 8279,
    "start_time": "2023-08-19T14:38:18.566Z"
   },
   {
    "duration": 188,
    "start_time": "2023-08-19T14:38:39.161Z"
   },
   {
    "duration": 1582,
    "start_time": "2023-08-19T16:43:46.111Z"
   },
   {
    "duration": 168,
    "start_time": "2023-08-19T16:43:47.695Z"
   },
   {
    "duration": 13,
    "start_time": "2023-08-19T16:43:47.873Z"
   },
   {
    "duration": 409,
    "start_time": "2023-08-19T16:43:47.888Z"
   },
   {
    "duration": 4,
    "start_time": "2023-08-19T16:43:48.300Z"
   },
   {
    "duration": 12,
    "start_time": "2023-08-19T16:43:48.305Z"
   },
   {
    "duration": 6,
    "start_time": "2023-08-19T16:43:48.319Z"
   },
   {
    "duration": 3,
    "start_time": "2023-08-19T16:43:48.327Z"
   },
   {
    "duration": 10,
    "start_time": "2023-08-19T16:43:48.332Z"
   },
   {
    "duration": 38,
    "start_time": "2023-08-19T16:43:48.343Z"
   },
   {
    "duration": 19,
    "start_time": "2023-08-19T16:43:48.382Z"
   },
   {
    "duration": 8,
    "start_time": "2023-08-19T16:43:48.402Z"
   },
   {
    "duration": 9,
    "start_time": "2023-08-19T16:43:48.411Z"
   },
   {
    "duration": 4,
    "start_time": "2023-08-19T16:43:48.423Z"
   },
   {
    "duration": 38,
    "start_time": "2023-08-19T16:43:48.459Z"
   },
   {
    "duration": 178,
    "start_time": "2023-08-19T16:43:48.499Z"
   },
   {
    "duration": 28,
    "start_time": "2023-08-19T16:43:48.679Z"
   },
   {
    "duration": 173,
    "start_time": "2023-08-19T16:43:48.709Z"
   },
   {
    "duration": 8376,
    "start_time": "2023-08-19T16:43:48.884Z"
   },
   {
    "duration": 70,
    "start_time": "2023-08-19T16:43:57.272Z"
   },
   {
    "duration": 149,
    "start_time": "2023-08-19T16:43:57.344Z"
   },
   {
    "duration": 183,
    "start_time": "2023-08-19T16:43:57.494Z"
   },
   {
    "duration": 8757,
    "start_time": "2023-08-19T16:43:57.678Z"
   },
   {
    "duration": 109,
    "start_time": "2023-08-19T16:55:58.294Z"
   },
   {
    "duration": 6,
    "start_time": "2023-08-19T16:56:04.630Z"
   },
   {
    "duration": 23,
    "start_time": "2023-08-19T16:56:06.829Z"
   },
   {
    "duration": 5,
    "start_time": "2023-08-19T16:56:55.378Z"
   },
   {
    "duration": 116,
    "start_time": "2023-08-19T16:57:01.079Z"
   },
   {
    "duration": 120,
    "start_time": "2023-08-19T16:57:18.512Z"
   },
   {
    "duration": 135,
    "start_time": "2023-08-19T16:59:01.159Z"
   },
   {
    "duration": 126,
    "start_time": "2023-08-19T17:01:29.263Z"
   },
   {
    "duration": 115,
    "start_time": "2023-08-19T17:01:51.028Z"
   },
   {
    "duration": 125,
    "start_time": "2023-08-19T17:01:59.908Z"
   },
   {
    "duration": 12,
    "start_time": "2023-08-19T17:02:24.973Z"
   },
   {
    "duration": 4,
    "start_time": "2023-08-19T17:02:32.313Z"
   },
   {
    "duration": 46,
    "start_time": "2023-08-19T17:02:33.927Z"
   },
   {
    "duration": 46,
    "start_time": "2023-08-19T17:02:52.595Z"
   },
   {
    "duration": 63,
    "start_time": "2023-08-19T17:11:35.570Z"
   },
   {
    "duration": 76,
    "start_time": "2023-08-19T17:11:45.031Z"
   },
   {
    "duration": 70,
    "start_time": "2023-08-19T17:11:51.627Z"
   },
   {
    "duration": 134,
    "start_time": "2023-08-19T17:12:36.972Z"
   },
   {
    "duration": 76,
    "start_time": "2023-08-19T17:12:53.631Z"
   },
   {
    "duration": 170,
    "start_time": "2023-08-19T17:13:28.048Z"
   },
   {
    "duration": 122,
    "start_time": "2023-08-19T17:13:40.699Z"
   },
   {
    "duration": 74,
    "start_time": "2023-08-19T17:14:53.828Z"
   },
   {
    "duration": 151,
    "start_time": "2023-08-19T17:16:23.747Z"
   },
   {
    "duration": 231,
    "start_time": "2023-08-19T17:17:28.344Z"
   },
   {
    "duration": 13,
    "start_time": "2023-08-19T17:28:17.772Z"
   },
   {
    "duration": 1910,
    "start_time": "2023-08-19T17:29:07.334Z"
   },
   {
    "duration": 52,
    "start_time": "2023-08-19T17:29:09.246Z"
   },
   {
    "duration": 15,
    "start_time": "2023-08-19T17:29:09.300Z"
   },
   {
    "duration": 17,
    "start_time": "2023-08-19T17:29:09.316Z"
   },
   {
    "duration": 4,
    "start_time": "2023-08-19T17:29:09.336Z"
   },
   {
    "duration": 12,
    "start_time": "2023-08-19T17:29:09.342Z"
   },
   {
    "duration": 11,
    "start_time": "2023-08-19T17:29:09.359Z"
   },
   {
    "duration": 3,
    "start_time": "2023-08-19T17:29:09.377Z"
   },
   {
    "duration": 16,
    "start_time": "2023-08-19T17:29:09.382Z"
   },
   {
    "duration": 47,
    "start_time": "2023-08-19T17:29:09.400Z"
   },
   {
    "duration": 28,
    "start_time": "2023-08-19T17:29:09.449Z"
   },
   {
    "duration": 6,
    "start_time": "2023-08-19T17:29:09.478Z"
   },
   {
    "duration": 8,
    "start_time": "2023-08-19T17:29:09.485Z"
   },
   {
    "duration": 6,
    "start_time": "2023-08-19T17:29:09.496Z"
   },
   {
    "duration": 29,
    "start_time": "2023-08-19T17:29:09.504Z"
   },
   {
    "duration": 208,
    "start_time": "2023-08-19T17:29:09.534Z"
   },
   {
    "duration": 42,
    "start_time": "2023-08-19T17:29:09.744Z"
   },
   {
    "duration": 173,
    "start_time": "2023-08-19T17:29:09.788Z"
   },
   {
    "duration": 8578,
    "start_time": "2023-08-19T17:29:09.963Z"
   },
   {
    "duration": 72,
    "start_time": "2023-08-19T17:29:18.543Z"
   },
   {
    "duration": 162,
    "start_time": "2023-08-19T17:29:18.616Z"
   },
   {
    "duration": 193,
    "start_time": "2023-08-19T17:29:18.780Z"
   },
   {
    "duration": 8856,
    "start_time": "2023-08-19T17:29:18.977Z"
   },
   {
    "duration": 5,
    "start_time": "2023-08-19T17:29:27.836Z"
   },
   {
    "duration": 144,
    "start_time": "2023-08-19T17:29:27.843Z"
   },
   {
    "duration": 4,
    "start_time": "2023-08-19T17:29:27.989Z"
   },
   {
    "duration": 69,
    "start_time": "2023-08-19T17:29:27.995Z"
   },
   {
    "duration": 79,
    "start_time": "2023-08-19T17:29:28.066Z"
   },
   {
    "duration": 163,
    "start_time": "2023-08-19T17:29:28.147Z"
   },
   {
    "duration": 1481,
    "start_time": "2023-08-20T06:37:19.472Z"
   },
   {
    "duration": 84,
    "start_time": "2023-08-20T06:37:20.955Z"
   },
   {
    "duration": 13,
    "start_time": "2023-08-20T06:37:21.040Z"
   },
   {
    "duration": 16,
    "start_time": "2023-08-20T06:37:21.055Z"
   },
   {
    "duration": 3,
    "start_time": "2023-08-20T06:37:21.073Z"
   },
   {
    "duration": 18,
    "start_time": "2023-08-20T06:37:21.078Z"
   },
   {
    "duration": 6,
    "start_time": "2023-08-20T06:37:21.098Z"
   },
   {
    "duration": 26,
    "start_time": "2023-08-20T06:37:21.105Z"
   },
   {
    "duration": 10,
    "start_time": "2023-08-20T06:37:21.133Z"
   },
   {
    "duration": 41,
    "start_time": "2023-08-20T06:37:21.144Z"
   },
   {
    "duration": 16,
    "start_time": "2023-08-20T06:37:21.186Z"
   },
   {
    "duration": 4,
    "start_time": "2023-08-20T06:37:21.204Z"
   },
   {
    "duration": 7,
    "start_time": "2023-08-20T06:37:21.209Z"
   },
   {
    "duration": 5,
    "start_time": "2023-08-20T06:37:21.219Z"
   },
   {
    "duration": 40,
    "start_time": "2023-08-20T06:37:21.225Z"
   },
   {
    "duration": 135,
    "start_time": "2023-08-20T06:37:21.267Z"
   },
   {
    "duration": 26,
    "start_time": "2023-08-20T06:37:21.404Z"
   },
   {
    "duration": 171,
    "start_time": "2023-08-20T06:37:21.432Z"
   },
   {
    "duration": 13,
    "start_time": "2023-08-20T06:37:21.605Z"
   },
   {
    "duration": 7577,
    "start_time": "2023-08-20T06:37:21.620Z"
   },
   {
    "duration": 18,
    "start_time": "2023-08-20T06:37:29.198Z"
   },
   {
    "duration": 153,
    "start_time": "2023-08-20T06:37:29.217Z"
   },
   {
    "duration": 167,
    "start_time": "2023-08-20T06:37:29.371Z"
   },
   {
    "duration": 7182,
    "start_time": "2023-08-20T06:37:29.540Z"
   },
   {
    "duration": 4,
    "start_time": "2023-08-20T06:37:36.723Z"
   },
   {
    "duration": 133,
    "start_time": "2023-08-20T06:37:36.728Z"
   },
   {
    "duration": 4,
    "start_time": "2023-08-20T06:37:36.862Z"
   },
   {
    "duration": 44,
    "start_time": "2023-08-20T06:37:36.867Z"
   },
   {
    "duration": 70,
    "start_time": "2023-08-20T06:37:36.913Z"
   },
   {
    "duration": 144,
    "start_time": "2023-08-20T06:37:36.984Z"
   },
   {
    "duration": 13,
    "start_time": "2023-08-20T06:37:56.335Z"
   },
   {
    "duration": 16,
    "start_time": "2023-08-20T06:40:06.452Z"
   },
   {
    "duration": 12,
    "start_time": "2023-08-20T06:41:01.397Z"
   },
   {
    "duration": 11,
    "start_time": "2023-08-20T06:44:24.432Z"
   },
   {
    "duration": 8,
    "start_time": "2023-08-20T06:44:45.063Z"
   },
   {
    "duration": 11,
    "start_time": "2023-08-20T06:44:50.832Z"
   },
   {
    "duration": 7,
    "start_time": "2023-08-20T06:45:07.527Z"
   },
   {
    "duration": 11,
    "start_time": "2023-08-20T06:45:12.075Z"
   },
   {
    "duration": 1600,
    "start_time": "2023-08-20T06:45:21.365Z"
   },
   {
    "duration": 61,
    "start_time": "2023-08-20T06:45:22.967Z"
   },
   {
    "duration": 17,
    "start_time": "2023-08-20T06:45:23.030Z"
   },
   {
    "duration": 59,
    "start_time": "2023-08-20T06:45:23.051Z"
   },
   {
    "duration": 31,
    "start_time": "2023-08-20T06:45:23.111Z"
   },
   {
    "duration": 13,
    "start_time": "2023-08-20T06:45:23.144Z"
   },
   {
    "duration": 12,
    "start_time": "2023-08-20T06:45:23.158Z"
   },
   {
    "duration": 4,
    "start_time": "2023-08-20T06:45:23.171Z"
   },
   {
    "duration": 8,
    "start_time": "2023-08-20T06:45:23.178Z"
   },
   {
    "duration": 31,
    "start_time": "2023-08-20T06:45:23.189Z"
   },
   {
    "duration": 50,
    "start_time": "2023-08-20T06:45:23.222Z"
   },
   {
    "duration": 6,
    "start_time": "2023-08-20T06:45:23.279Z"
   },
   {
    "duration": 10,
    "start_time": "2023-08-20T06:45:23.286Z"
   },
   {
    "duration": 6,
    "start_time": "2023-08-20T06:45:23.297Z"
   },
   {
    "duration": 34,
    "start_time": "2023-08-20T06:45:23.304Z"
   },
   {
    "duration": 179,
    "start_time": "2023-08-20T06:45:23.340Z"
   },
   {
    "duration": 33,
    "start_time": "2023-08-20T06:45:23.520Z"
   },
   {
    "duration": 302,
    "start_time": "2023-08-20T06:45:23.556Z"
   },
   {
    "duration": 22,
    "start_time": "2023-08-20T06:45:23.861Z"
   },
   {
    "duration": 9056,
    "start_time": "2023-08-20T06:45:23.885Z"
   },
   {
    "duration": 25,
    "start_time": "2023-08-20T06:45:32.943Z"
   },
   {
    "duration": 148,
    "start_time": "2023-08-20T06:45:32.969Z"
   },
   {
    "duration": 11,
    "start_time": "2023-08-20T06:45:33.119Z"
   },
   {
    "duration": 175,
    "start_time": "2023-08-20T06:45:33.132Z"
   },
   {
    "duration": 7331,
    "start_time": "2023-08-20T06:45:33.308Z"
   },
   {
    "duration": 3,
    "start_time": "2023-08-20T06:45:40.640Z"
   },
   {
    "duration": 110,
    "start_time": "2023-08-20T06:45:40.652Z"
   },
   {
    "duration": 4,
    "start_time": "2023-08-20T06:45:40.766Z"
   },
   {
    "duration": 38,
    "start_time": "2023-08-20T06:45:40.771Z"
   },
   {
    "duration": 71,
    "start_time": "2023-08-20T06:45:40.811Z"
   },
   {
    "duration": 132,
    "start_time": "2023-08-20T06:45:40.883Z"
   },
   {
    "duration": 1479,
    "start_time": "2023-08-20T06:47:03.041Z"
   },
   {
    "duration": 52,
    "start_time": "2023-08-20T06:47:04.522Z"
   },
   {
    "duration": 15,
    "start_time": "2023-08-20T06:47:04.577Z"
   },
   {
    "duration": 16,
    "start_time": "2023-08-20T06:47:04.596Z"
   },
   {
    "duration": 5,
    "start_time": "2023-08-20T06:47:04.615Z"
   },
   {
    "duration": 34,
    "start_time": "2023-08-20T06:47:04.622Z"
   },
   {
    "duration": 20,
    "start_time": "2023-08-20T06:47:04.658Z"
   },
   {
    "duration": 15,
    "start_time": "2023-08-20T06:47:04.680Z"
   },
   {
    "duration": 17,
    "start_time": "2023-08-20T06:47:04.697Z"
   },
   {
    "duration": 35,
    "start_time": "2023-08-20T06:47:04.716Z"
   },
   {
    "duration": 33,
    "start_time": "2023-08-20T06:47:04.754Z"
   },
   {
    "duration": 7,
    "start_time": "2023-08-20T06:47:04.788Z"
   },
   {
    "duration": 7,
    "start_time": "2023-08-20T06:47:04.797Z"
   },
   {
    "duration": 10,
    "start_time": "2023-08-20T06:47:04.807Z"
   },
   {
    "duration": 51,
    "start_time": "2023-08-20T06:47:04.819Z"
   },
   {
    "duration": 167,
    "start_time": "2023-08-20T06:47:04.872Z"
   },
   {
    "duration": 44,
    "start_time": "2023-08-20T06:47:05.040Z"
   },
   {
    "duration": 153,
    "start_time": "2023-08-20T06:47:05.088Z"
   },
   {
    "duration": 24,
    "start_time": "2023-08-20T06:47:05.242Z"
   },
   {
    "duration": 8316,
    "start_time": "2023-08-20T06:47:05.268Z"
   },
   {
    "duration": 15,
    "start_time": "2023-08-20T06:47:13.585Z"
   },
   {
    "duration": 133,
    "start_time": "2023-08-20T06:47:13.602Z"
   },
   {
    "duration": 15,
    "start_time": "2023-08-20T06:47:13.736Z"
   },
   {
    "duration": 150,
    "start_time": "2023-08-20T06:47:13.753Z"
   },
   {
    "duration": 7072,
    "start_time": "2023-08-20T06:47:13.905Z"
   },
   {
    "duration": 4,
    "start_time": "2023-08-20T06:47:20.978Z"
   },
   {
    "duration": 111,
    "start_time": "2023-08-20T06:47:20.983Z"
   },
   {
    "duration": 5,
    "start_time": "2023-08-20T06:47:21.095Z"
   },
   {
    "duration": 63,
    "start_time": "2023-08-20T06:47:21.101Z"
   },
   {
    "duration": 57,
    "start_time": "2023-08-20T06:47:21.166Z"
   },
   {
    "duration": 140,
    "start_time": "2023-08-20T06:47:21.225Z"
   },
   {
    "duration": 11,
    "start_time": "2023-08-20T06:49:00.441Z"
   },
   {
    "duration": 210,
    "start_time": "2023-08-20T06:49:33.618Z"
   },
   {
    "duration": 1428,
    "start_time": "2023-08-20T06:50:03.577Z"
   },
   {
    "duration": 41,
    "start_time": "2023-08-20T06:50:05.007Z"
   },
   {
    "duration": 15,
    "start_time": "2023-08-20T06:50:05.050Z"
   },
   {
    "duration": 43,
    "start_time": "2023-08-20T06:50:05.067Z"
   },
   {
    "duration": 31,
    "start_time": "2023-08-20T06:50:05.112Z"
   },
   {
    "duration": 39,
    "start_time": "2023-08-20T06:50:05.145Z"
   },
   {
    "duration": 26,
    "start_time": "2023-08-20T06:50:05.185Z"
   },
   {
    "duration": 15,
    "start_time": "2023-08-20T06:50:05.213Z"
   },
   {
    "duration": 15,
    "start_time": "2023-08-20T06:50:05.230Z"
   },
   {
    "duration": 41,
    "start_time": "2023-08-20T06:50:05.248Z"
   },
   {
    "duration": 18,
    "start_time": "2023-08-20T06:50:05.290Z"
   },
   {
    "duration": 9,
    "start_time": "2023-08-20T06:50:05.310Z"
   },
   {
    "duration": 28,
    "start_time": "2023-08-20T06:50:05.321Z"
   },
   {
    "duration": 5,
    "start_time": "2023-08-20T06:50:05.351Z"
   },
   {
    "duration": 40,
    "start_time": "2023-08-20T06:50:05.357Z"
   },
   {
    "duration": 140,
    "start_time": "2023-08-20T06:50:05.399Z"
   },
   {
    "duration": 35,
    "start_time": "2023-08-20T06:50:05.541Z"
   },
   {
    "duration": 145,
    "start_time": "2023-08-20T06:50:05.578Z"
   },
   {
    "duration": 12,
    "start_time": "2023-08-20T06:50:05.724Z"
   },
   {
    "duration": 7585,
    "start_time": "2023-08-20T06:50:05.737Z"
   },
   {
    "duration": 17,
    "start_time": "2023-08-20T06:50:13.323Z"
   },
   {
    "duration": 130,
    "start_time": "2023-08-20T06:50:13.350Z"
   },
   {
    "duration": 10,
    "start_time": "2023-08-20T06:50:13.482Z"
   },
   {
    "duration": 208,
    "start_time": "2023-08-20T06:50:13.494Z"
   },
   {
    "duration": 162,
    "start_time": "2023-08-20T06:50:13.704Z"
   },
   {
    "duration": 7065,
    "start_time": "2023-08-20T06:50:13.867Z"
   },
   {
    "duration": 4,
    "start_time": "2023-08-20T06:50:20.934Z"
   },
   {
    "duration": 109,
    "start_time": "2023-08-20T06:50:20.949Z"
   },
   {
    "duration": 5,
    "start_time": "2023-08-20T06:50:21.060Z"
   },
   {
    "duration": 40,
    "start_time": "2023-08-20T06:50:21.066Z"
   },
   {
    "duration": 75,
    "start_time": "2023-08-20T06:50:21.108Z"
   },
   {
    "duration": 140,
    "start_time": "2023-08-20T06:50:21.185Z"
   },
   {
    "duration": 161,
    "start_time": "2023-08-20T06:50:22.735Z"
   },
   {
    "duration": 1355,
    "start_time": "2023-08-20T06:51:52.320Z"
   },
   {
    "duration": 41,
    "start_time": "2023-08-20T06:51:53.677Z"
   },
   {
    "duration": 12,
    "start_time": "2023-08-20T06:51:53.720Z"
   },
   {
    "duration": 23,
    "start_time": "2023-08-20T06:51:53.733Z"
   },
   {
    "duration": 4,
    "start_time": "2023-08-20T06:51:53.758Z"
   },
   {
    "duration": 9,
    "start_time": "2023-08-20T06:51:53.764Z"
   },
   {
    "duration": 6,
    "start_time": "2023-08-20T06:51:53.775Z"
   },
   {
    "duration": 5,
    "start_time": "2023-08-20T06:51:53.782Z"
   },
   {
    "duration": 8,
    "start_time": "2023-08-20T06:51:53.788Z"
   },
   {
    "duration": 56,
    "start_time": "2023-08-20T06:51:53.798Z"
   },
   {
    "duration": 17,
    "start_time": "2023-08-20T06:51:53.856Z"
   },
   {
    "duration": 5,
    "start_time": "2023-08-20T06:51:53.875Z"
   },
   {
    "duration": 8,
    "start_time": "2023-08-20T06:51:53.881Z"
   },
   {
    "duration": 6,
    "start_time": "2023-08-20T06:51:53.891Z"
   },
   {
    "duration": 58,
    "start_time": "2023-08-20T06:51:53.899Z"
   },
   {
    "duration": 2722,
    "start_time": "2023-08-20T06:51:53.958Z"
   },
   {
    "duration": 22,
    "start_time": "2023-08-20T06:51:56.682Z"
   },
   {
    "duration": 144,
    "start_time": "2023-08-20T06:51:56.705Z"
   },
   {
    "duration": 11,
    "start_time": "2023-08-20T06:51:56.851Z"
   },
   {
    "duration": 1242,
    "start_time": "2023-08-20T07:12:48.387Z"
   },
   {
    "duration": 41,
    "start_time": "2023-08-20T07:12:49.630Z"
   },
   {
    "duration": 12,
    "start_time": "2023-08-20T07:12:49.672Z"
   },
   {
    "duration": 14,
    "start_time": "2023-08-20T07:12:49.685Z"
   },
   {
    "duration": 3,
    "start_time": "2023-08-20T07:12:49.701Z"
   },
   {
    "duration": 12,
    "start_time": "2023-08-20T07:12:49.706Z"
   },
   {
    "duration": 6,
    "start_time": "2023-08-20T07:12:49.719Z"
   },
   {
    "duration": 7,
    "start_time": "2023-08-20T07:12:49.726Z"
   },
   {
    "duration": 19,
    "start_time": "2023-08-20T07:12:49.735Z"
   },
   {
    "duration": 33,
    "start_time": "2023-08-20T07:12:49.756Z"
   },
   {
    "duration": 16,
    "start_time": "2023-08-20T07:12:49.790Z"
   },
   {
    "duration": 4,
    "start_time": "2023-08-20T07:12:49.808Z"
   },
   {
    "duration": 13,
    "start_time": "2023-08-20T07:12:49.813Z"
   },
   {
    "duration": 23,
    "start_time": "2023-08-20T07:12:49.827Z"
   },
   {
    "duration": 25,
    "start_time": "2023-08-20T07:12:49.852Z"
   },
   {
    "duration": 2634,
    "start_time": "2023-08-20T07:12:49.879Z"
   },
   {
    "duration": 23,
    "start_time": "2023-08-20T07:12:52.514Z"
   },
   {
    "duration": 153,
    "start_time": "2023-08-20T07:12:52.539Z"
   },
   {
    "duration": 63,
    "start_time": "2023-08-20T07:12:52.693Z"
   },
   {
    "duration": 15179,
    "start_time": "2023-08-20T07:12:52.758Z"
   },
   {
    "duration": 363,
    "start_time": "2023-08-20T07:13:07.939Z"
   },
   {
    "duration": 124,
    "start_time": "2023-08-20T07:13:08.304Z"
   },
   {
    "duration": 10,
    "start_time": "2023-08-20T07:13:08.429Z"
   },
   {
    "duration": 153,
    "start_time": "2023-08-20T07:13:08.449Z"
   },
   {
    "duration": 153,
    "start_time": "2023-08-20T07:13:08.603Z"
   },
   {
    "duration": 6943,
    "start_time": "2023-08-20T07:13:08.758Z"
   },
   {
    "duration": 3,
    "start_time": "2023-08-20T07:13:15.703Z"
   },
   {
    "duration": 136,
    "start_time": "2023-08-20T07:13:15.709Z"
   },
   {
    "duration": 3,
    "start_time": "2023-08-20T07:13:15.847Z"
   },
   {
    "duration": 46,
    "start_time": "2023-08-20T07:13:15.852Z"
   },
   {
    "duration": 62,
    "start_time": "2023-08-20T07:13:15.899Z"
   },
   {
    "duration": 167,
    "start_time": "2023-08-20T07:13:15.963Z"
   },
   {
    "duration": 1323,
    "start_time": "2023-08-20T07:16:35.385Z"
   },
   {
    "duration": 40,
    "start_time": "2023-08-20T07:16:36.710Z"
   },
   {
    "duration": 13,
    "start_time": "2023-08-20T07:16:36.751Z"
   },
   {
    "duration": 16,
    "start_time": "2023-08-20T07:16:36.765Z"
   },
   {
    "duration": 4,
    "start_time": "2023-08-20T07:16:36.783Z"
   },
   {
    "duration": 11,
    "start_time": "2023-08-20T07:16:36.788Z"
   },
   {
    "duration": 6,
    "start_time": "2023-08-20T07:16:36.801Z"
   },
   {
    "duration": 4,
    "start_time": "2023-08-20T07:16:36.808Z"
   },
   {
    "duration": 7,
    "start_time": "2023-08-20T07:16:36.813Z"
   },
   {
    "duration": 53,
    "start_time": "2023-08-20T07:16:36.822Z"
   },
   {
    "duration": 15,
    "start_time": "2023-08-20T07:16:36.877Z"
   },
   {
    "duration": 4,
    "start_time": "2023-08-20T07:16:36.894Z"
   },
   {
    "duration": 11,
    "start_time": "2023-08-20T07:16:36.900Z"
   },
   {
    "duration": 6,
    "start_time": "2023-08-20T07:16:36.914Z"
   },
   {
    "duration": 50,
    "start_time": "2023-08-20T07:16:36.921Z"
   },
   {
    "duration": 2562,
    "start_time": "2023-08-20T07:16:36.973Z"
   },
   {
    "duration": 29,
    "start_time": "2023-08-20T07:16:39.537Z"
   },
   {
    "duration": 138,
    "start_time": "2023-08-20T07:16:39.567Z"
   },
   {
    "duration": 13,
    "start_time": "2023-08-20T07:16:39.707Z"
   },
   {
    "duration": 1312,
    "start_time": "2023-08-20T07:21:52.122Z"
   },
   {
    "duration": 41,
    "start_time": "2023-08-20T07:21:53.436Z"
   },
   {
    "duration": 12,
    "start_time": "2023-08-20T07:21:53.478Z"
   },
   {
    "duration": 16,
    "start_time": "2023-08-20T07:21:53.491Z"
   },
   {
    "duration": 3,
    "start_time": "2023-08-20T07:21:53.509Z"
   },
   {
    "duration": 13,
    "start_time": "2023-08-20T07:21:53.514Z"
   },
   {
    "duration": 8,
    "start_time": "2023-08-20T07:21:53.528Z"
   },
   {
    "duration": 5,
    "start_time": "2023-08-20T07:21:53.537Z"
   },
   {
    "duration": 6,
    "start_time": "2023-08-20T07:21:53.549Z"
   },
   {
    "duration": 32,
    "start_time": "2023-08-20T07:21:53.557Z"
   },
   {
    "duration": 16,
    "start_time": "2023-08-20T07:21:53.590Z"
   },
   {
    "duration": 4,
    "start_time": "2023-08-20T07:21:53.608Z"
   },
   {
    "duration": 7,
    "start_time": "2023-08-20T07:21:53.613Z"
   },
   {
    "duration": 28,
    "start_time": "2023-08-20T07:21:53.623Z"
   },
   {
    "duration": 37,
    "start_time": "2023-08-20T07:21:53.653Z"
   },
   {
    "duration": 2611,
    "start_time": "2023-08-20T07:21:53.692Z"
   },
   {
    "duration": 24,
    "start_time": "2023-08-20T07:21:56.305Z"
   },
   {
    "duration": 147,
    "start_time": "2023-08-20T07:21:56.331Z"
   },
   {
    "duration": 11,
    "start_time": "2023-08-20T07:21:56.480Z"
   },
   {
    "duration": 37826,
    "start_time": "2023-08-20T07:21:56.493Z"
   },
   {
    "duration": 600,
    "start_time": "2023-08-20T07:22:34.320Z"
   },
   {
    "duration": 129,
    "start_time": "2023-08-20T07:22:34.922Z"
   },
   {
    "duration": 12,
    "start_time": "2023-08-20T07:22:35.053Z"
   },
   {
    "duration": 226,
    "start_time": "2023-08-20T07:22:35.066Z"
   },
   {
    "duration": 148,
    "start_time": "2023-08-20T07:22:35.294Z"
   },
   {
    "duration": 6876,
    "start_time": "2023-08-20T07:22:35.444Z"
   },
   {
    "duration": 3,
    "start_time": "2023-08-20T07:22:42.322Z"
   },
   {
    "duration": 114,
    "start_time": "2023-08-20T07:22:42.327Z"
   },
   {
    "duration": 9,
    "start_time": "2023-08-20T07:22:42.443Z"
   },
   {
    "duration": 62,
    "start_time": "2023-08-20T07:22:42.454Z"
   },
   {
    "duration": 55,
    "start_time": "2023-08-20T07:22:42.518Z"
   },
   {
    "duration": 134,
    "start_time": "2023-08-20T07:22:42.575Z"
   },
   {
    "duration": 1676,
    "start_time": "2023-08-20T07:25:48.847Z"
   },
   {
    "duration": 41,
    "start_time": "2023-08-20T07:25:50.525Z"
   },
   {
    "duration": 12,
    "start_time": "2023-08-20T07:25:50.568Z"
   },
   {
    "duration": 17,
    "start_time": "2023-08-20T07:25:50.582Z"
   },
   {
    "duration": 4,
    "start_time": "2023-08-20T07:25:50.601Z"
   },
   {
    "duration": 13,
    "start_time": "2023-08-20T07:25:50.606Z"
   },
   {
    "duration": 6,
    "start_time": "2023-08-20T07:25:50.620Z"
   },
   {
    "duration": 23,
    "start_time": "2023-08-20T07:25:50.628Z"
   },
   {
    "duration": 8,
    "start_time": "2023-08-20T07:25:50.652Z"
   },
   {
    "duration": 31,
    "start_time": "2023-08-20T07:25:50.662Z"
   },
   {
    "duration": 17,
    "start_time": "2023-08-20T07:25:50.694Z"
   },
   {
    "duration": 4,
    "start_time": "2023-08-20T07:25:50.712Z"
   },
   {
    "duration": 37,
    "start_time": "2023-08-20T07:25:50.718Z"
   },
   {
    "duration": 4,
    "start_time": "2023-08-20T07:25:50.756Z"
   },
   {
    "duration": 37,
    "start_time": "2023-08-20T07:25:50.762Z"
   },
   {
    "duration": 2568,
    "start_time": "2023-08-20T07:25:50.800Z"
   },
   {
    "duration": 24,
    "start_time": "2023-08-20T07:25:53.369Z"
   },
   {
    "duration": 137,
    "start_time": "2023-08-20T07:25:53.394Z"
   },
   {
    "duration": 18,
    "start_time": "2023-08-20T07:25:53.533Z"
   },
   {
    "duration": 108453,
    "start_time": "2023-08-20T07:25:53.552Z"
   },
   {
    "duration": 787,
    "start_time": "2023-08-20T07:27:42.006Z"
   },
   {
    "duration": 132,
    "start_time": "2023-08-20T07:27:42.795Z"
   },
   {
    "duration": 9,
    "start_time": "2023-08-20T07:27:42.929Z"
   },
   {
    "duration": 173,
    "start_time": "2023-08-20T07:27:42.950Z"
   },
   {
    "duration": 163,
    "start_time": "2023-08-20T07:27:43.125Z"
   },
   {
    "duration": 6803,
    "start_time": "2023-08-20T07:27:43.289Z"
   },
   {
    "duration": 4,
    "start_time": "2023-08-20T07:27:50.093Z"
   },
   {
    "duration": 127,
    "start_time": "2023-08-20T07:27:50.100Z"
   },
   {
    "duration": 4,
    "start_time": "2023-08-20T07:27:50.228Z"
   },
   {
    "duration": 45,
    "start_time": "2023-08-20T07:27:50.234Z"
   },
   {
    "duration": 56,
    "start_time": "2023-08-20T07:27:50.280Z"
   },
   {
    "duration": 135,
    "start_time": "2023-08-20T07:27:50.350Z"
   },
   {
    "duration": 188,
    "start_time": "2023-08-20T07:33:55.347Z"
   },
   {
    "duration": 155,
    "start_time": "2023-08-20T07:34:19.100Z"
   },
   {
    "duration": 172,
    "start_time": "2023-08-20T07:34:26.099Z"
   },
   {
    "duration": 145,
    "start_time": "2023-08-20T07:34:44.481Z"
   },
   {
    "duration": 157,
    "start_time": "2023-08-20T07:34:54.549Z"
   },
   {
    "duration": 148,
    "start_time": "2023-08-20T07:36:43.481Z"
   },
   {
    "duration": 152,
    "start_time": "2023-08-20T07:36:47.940Z"
   },
   {
    "duration": 224,
    "start_time": "2023-08-20T07:36:54.629Z"
   },
   {
    "duration": 1651,
    "start_time": "2023-08-20T10:15:47.111Z"
   },
   {
    "duration": 403,
    "start_time": "2023-08-20T10:15:48.765Z"
   },
   {
    "duration": 14,
    "start_time": "2023-08-20T10:15:49.170Z"
   },
   {
    "duration": 15,
    "start_time": "2023-08-20T10:15:49.186Z"
   },
   {
    "duration": 5,
    "start_time": "2023-08-20T10:15:49.203Z"
   },
   {
    "duration": 16,
    "start_time": "2023-08-20T10:15:49.209Z"
   },
   {
    "duration": 7,
    "start_time": "2023-08-20T10:15:49.227Z"
   },
   {
    "duration": 13,
    "start_time": "2023-08-20T10:15:49.235Z"
   },
   {
    "duration": 14,
    "start_time": "2023-08-20T10:15:49.257Z"
   },
   {
    "duration": 34,
    "start_time": "2023-08-20T10:15:49.274Z"
   },
   {
    "duration": 20,
    "start_time": "2023-08-20T10:15:49.309Z"
   },
   {
    "duration": 5,
    "start_time": "2023-08-20T10:15:49.331Z"
   },
   {
    "duration": 11,
    "start_time": "2023-08-20T10:15:49.356Z"
   },
   {
    "duration": 6,
    "start_time": "2023-08-20T10:15:49.369Z"
   },
   {
    "duration": 35,
    "start_time": "2023-08-20T10:15:49.377Z"
   },
   {
    "duration": 2877,
    "start_time": "2023-08-20T10:15:49.413Z"
   },
   {
    "duration": 25,
    "start_time": "2023-08-20T10:15:52.292Z"
   },
   {
    "duration": 166,
    "start_time": "2023-08-20T10:15:52.318Z"
   },
   {
    "duration": 15,
    "start_time": "2023-08-20T10:15:52.485Z"
   },
   {
    "duration": 123203,
    "start_time": "2023-08-20T10:15:52.502Z"
   },
   {
    "duration": 870,
    "start_time": "2023-08-20T10:17:55.707Z"
   },
   {
    "duration": 155,
    "start_time": "2023-08-20T10:17:56.579Z"
   },
   {
    "duration": 12,
    "start_time": "2023-08-20T10:17:56.736Z"
   },
   {
    "duration": 191,
    "start_time": "2023-08-20T10:17:56.761Z"
   },
   {
    "duration": 158,
    "start_time": "2023-08-20T10:17:56.957Z"
   },
   {
    "duration": 7909,
    "start_time": "2023-08-20T10:17:57.117Z"
   },
   {
    "duration": 3,
    "start_time": "2023-08-20T10:18:05.028Z"
   },
   {
    "duration": 125,
    "start_time": "2023-08-20T10:18:05.034Z"
   },
   {
    "duration": 4,
    "start_time": "2023-08-20T10:18:05.161Z"
   },
   {
    "duration": 75,
    "start_time": "2023-08-20T10:18:05.167Z"
   },
   {
    "duration": 78,
    "start_time": "2023-08-20T10:18:05.244Z"
   },
   {
    "duration": 153,
    "start_time": "2023-08-20T10:18:05.324Z"
   },
   {
    "duration": 112,
    "start_time": "2023-08-20T10:20:45.985Z"
   },
   {
    "duration": 88,
    "start_time": "2023-08-20T10:20:57.511Z"
   },
   {
    "duration": 104,
    "start_time": "2023-08-20T10:21:48.369Z"
   },
   {
    "duration": 116,
    "start_time": "2023-08-20T10:21:54.466Z"
   },
   {
    "duration": 84,
    "start_time": "2023-08-20T10:22:03.114Z"
   },
   {
    "duration": 85,
    "start_time": "2023-08-20T10:22:09.446Z"
   },
   {
    "duration": 89,
    "start_time": "2023-08-20T10:22:16.245Z"
   },
   {
    "duration": 89,
    "start_time": "2023-08-20T10:22:21.215Z"
   },
   {
    "duration": 47,
    "start_time": "2023-08-20T10:22:50.097Z"
   },
   {
    "duration": 53,
    "start_time": "2023-08-20T10:22:55.599Z"
   },
   {
    "duration": 56,
    "start_time": "2023-08-20T10:23:00.096Z"
   },
   {
    "duration": 54,
    "start_time": "2023-08-20T10:23:07.463Z"
   },
   {
    "duration": 53,
    "start_time": "2023-08-20T10:23:14.357Z"
   },
   {
    "duration": 61,
    "start_time": "2023-08-20T10:23:20.253Z"
   },
   {
    "duration": 56,
    "start_time": "2023-08-20T10:23:25.756Z"
   },
   {
    "duration": 74,
    "start_time": "2023-08-20T10:23:31.130Z"
   },
   {
    "duration": 54,
    "start_time": "2023-08-20T10:23:37.429Z"
   },
   {
    "duration": 65,
    "start_time": "2023-08-20T10:24:14.725Z"
   },
   {
    "duration": 144,
    "start_time": "2023-08-20T10:24:35.381Z"
   },
   {
    "duration": 812,
    "start_time": "2023-08-20T10:25:33.306Z"
   },
   {
    "duration": 818,
    "start_time": "2023-08-20T10:27:15.242Z"
   },
   {
    "duration": 161,
    "start_time": "2023-08-20T12:06:02.222Z"
   },
   {
    "duration": 5,
    "start_time": "2023-08-20T12:06:24.724Z"
   },
   {
    "duration": 6,
    "start_time": "2023-08-20T12:06:35.580Z"
   },
   {
    "duration": 21,
    "start_time": "2023-08-20T12:08:33.144Z"
   },
   {
    "duration": 1409,
    "start_time": "2023-08-20T12:13:55.014Z"
   },
   {
    "duration": 52,
    "start_time": "2023-08-20T12:13:56.424Z"
   },
   {
    "duration": 14,
    "start_time": "2023-08-20T12:13:56.478Z"
   },
   {
    "duration": 98,
    "start_time": "2023-08-20T12:13:56.495Z"
   },
   {
    "duration": 9,
    "start_time": "2023-08-20T12:13:56.595Z"
   },
   {
    "duration": 12,
    "start_time": "2023-08-20T12:13:56.605Z"
   },
   {
    "duration": 21,
    "start_time": "2023-08-20T12:13:56.619Z"
   },
   {
    "duration": 45,
    "start_time": "2023-08-20T12:13:56.642Z"
   },
   {
    "duration": 14,
    "start_time": "2023-08-20T12:13:56.689Z"
   },
   {
    "duration": 44,
    "start_time": "2023-08-20T12:13:56.705Z"
   },
   {
    "duration": 31,
    "start_time": "2023-08-20T12:13:56.750Z"
   },
   {
    "duration": 11,
    "start_time": "2023-08-20T12:13:56.783Z"
   },
   {
    "duration": 10,
    "start_time": "2023-08-20T12:13:56.796Z"
   },
   {
    "duration": 9,
    "start_time": "2023-08-20T12:13:56.808Z"
   },
   {
    "duration": 52,
    "start_time": "2023-08-20T12:13:56.818Z"
   },
   {
    "duration": 3009,
    "start_time": "2023-08-20T12:13:56.872Z"
   },
   {
    "duration": 29,
    "start_time": "2023-08-20T12:13:59.883Z"
   },
   {
    "duration": 184,
    "start_time": "2023-08-20T12:13:59.913Z"
   },
   {
    "duration": 14,
    "start_time": "2023-08-20T12:14:00.100Z"
   },
   {
    "duration": 130391,
    "start_time": "2023-08-20T12:14:00.115Z"
   },
   {
    "duration": 967,
    "start_time": "2023-08-20T12:16:10.508Z"
   },
   {
    "duration": 180,
    "start_time": "2023-08-20T12:16:11.477Z"
   },
   {
    "duration": 19,
    "start_time": "2023-08-20T12:16:11.660Z"
   },
   {
    "duration": 219,
    "start_time": "2023-08-20T12:16:11.681Z"
   },
   {
    "duration": 184,
    "start_time": "2023-08-20T12:16:11.901Z"
   },
   {
    "duration": 8254,
    "start_time": "2023-08-20T12:16:12.087Z"
   },
   {
    "duration": 16,
    "start_time": "2023-08-20T12:16:20.343Z"
   },
   {
    "duration": 103,
    "start_time": "2023-08-20T12:16:20.372Z"
   },
   {
    "duration": 5,
    "start_time": "2023-08-20T12:16:20.477Z"
   },
   {
    "duration": 90,
    "start_time": "2023-08-20T12:16:20.484Z"
   },
   {
    "duration": 884,
    "start_time": "2023-08-20T12:16:20.576Z"
   },
   {
    "duration": 161,
    "start_time": "2023-08-20T12:16:21.462Z"
   },
   {
    "duration": 720,
    "start_time": "2023-08-20T12:19:08.343Z"
   },
   {
    "duration": 45790,
    "start_time": "2023-08-20T12:19:27.180Z"
   },
   {
    "duration": 666,
    "start_time": "2023-08-20T12:21:45.253Z"
   },
   {
    "duration": 691,
    "start_time": "2023-08-20T12:22:14.342Z"
   },
   {
    "duration": 1536,
    "start_time": "2023-08-20T12:23:14.548Z"
   },
   {
    "duration": 49,
    "start_time": "2023-08-20T12:23:16.086Z"
   },
   {
    "duration": 17,
    "start_time": "2023-08-20T12:23:16.137Z"
   },
   {
    "duration": 29,
    "start_time": "2023-08-20T12:23:16.156Z"
   },
   {
    "duration": 5,
    "start_time": "2023-08-20T12:23:16.187Z"
   },
   {
    "duration": 14,
    "start_time": "2023-08-20T12:23:16.195Z"
   },
   {
    "duration": 7,
    "start_time": "2023-08-20T12:23:16.211Z"
   },
   {
    "duration": 11,
    "start_time": "2023-08-20T12:23:16.220Z"
   },
   {
    "duration": 29,
    "start_time": "2023-08-20T12:23:16.233Z"
   },
   {
    "duration": 40,
    "start_time": "2023-08-20T12:23:16.264Z"
   },
   {
    "duration": 17,
    "start_time": "2023-08-20T12:23:16.305Z"
   },
   {
    "duration": 24,
    "start_time": "2023-08-20T12:23:16.324Z"
   },
   {
    "duration": 20,
    "start_time": "2023-08-20T12:23:16.350Z"
   },
   {
    "duration": 7,
    "start_time": "2023-08-20T12:23:16.373Z"
   },
   {
    "duration": 39,
    "start_time": "2023-08-20T12:23:16.382Z"
   },
   {
    "duration": 3125,
    "start_time": "2023-08-20T12:23:16.422Z"
   },
   {
    "duration": 37,
    "start_time": "2023-08-20T12:23:19.549Z"
   },
   {
    "duration": 211,
    "start_time": "2023-08-20T12:23:19.587Z"
   },
   {
    "duration": 14,
    "start_time": "2023-08-20T12:23:19.799Z"
   },
   {
    "duration": 48405,
    "start_time": "2023-08-20T12:23:19.815Z"
   },
   {
    "duration": 919,
    "start_time": "2023-08-20T12:24:08.222Z"
   },
   {
    "duration": 220,
    "start_time": "2023-08-20T12:24:09.144Z"
   },
   {
    "duration": 14,
    "start_time": "2023-08-20T12:24:09.367Z"
   },
   {
    "duration": 341,
    "start_time": "2023-08-20T12:24:09.383Z"
   },
   {
    "duration": 189,
    "start_time": "2023-08-20T12:24:09.726Z"
   },
   {
    "duration": 8605,
    "start_time": "2023-08-20T12:24:09.917Z"
   },
   {
    "duration": 4,
    "start_time": "2023-08-20T12:24:18.524Z"
   },
   {
    "duration": 133,
    "start_time": "2023-08-20T12:24:18.530Z"
   },
   {
    "duration": 5,
    "start_time": "2023-08-20T12:24:18.664Z"
   },
   {
    "duration": 61,
    "start_time": "2023-08-20T12:24:18.671Z"
   },
   {
    "duration": 1346,
    "start_time": "2023-08-20T12:24:18.734Z"
   },
   {
    "duration": 397,
    "start_time": "2023-08-20T12:24:20.082Z"
   },
   {
    "duration": 1535,
    "start_time": "2023-08-20T12:28:31.231Z"
   },
   {
    "duration": 43,
    "start_time": "2023-08-20T12:28:32.769Z"
   },
   {
    "duration": 14,
    "start_time": "2023-08-20T12:28:32.814Z"
   },
   {
    "duration": 17,
    "start_time": "2023-08-20T12:28:32.830Z"
   },
   {
    "duration": 17,
    "start_time": "2023-08-20T12:28:32.848Z"
   },
   {
    "duration": 28,
    "start_time": "2023-08-20T12:28:32.867Z"
   },
   {
    "duration": 7,
    "start_time": "2023-08-20T12:28:32.897Z"
   },
   {
    "duration": 25,
    "start_time": "2023-08-20T12:28:32.905Z"
   },
   {
    "duration": 7,
    "start_time": "2023-08-20T12:28:32.932Z"
   },
   {
    "duration": 40,
    "start_time": "2023-08-20T12:28:32.942Z"
   },
   {
    "duration": 18,
    "start_time": "2023-08-20T12:28:32.984Z"
   },
   {
    "duration": 7,
    "start_time": "2023-08-20T12:28:33.004Z"
   },
   {
    "duration": 29,
    "start_time": "2023-08-20T12:28:33.013Z"
   },
   {
    "duration": 5,
    "start_time": "2023-08-20T12:28:33.044Z"
   },
   {
    "duration": 44,
    "start_time": "2023-08-20T12:28:33.051Z"
   },
   {
    "duration": 2940,
    "start_time": "2023-08-20T12:28:33.097Z"
   },
   {
    "duration": 53,
    "start_time": "2023-08-20T12:28:36.039Z"
   },
   {
    "duration": 148,
    "start_time": "2023-08-20T12:28:36.094Z"
   },
   {
    "duration": 19,
    "start_time": "2023-08-20T12:28:36.244Z"
   },
   {
    "duration": 43592,
    "start_time": "2023-08-20T12:28:36.265Z"
   },
   {
    "duration": 835,
    "start_time": "2023-08-20T12:29:19.858Z"
   },
   {
    "duration": 257,
    "start_time": "2023-08-20T12:29:20.695Z"
   },
   {
    "duration": 14,
    "start_time": "2023-08-20T12:29:20.956Z"
   },
   {
    "duration": 212,
    "start_time": "2023-08-20T12:29:20.973Z"
   },
   {
    "duration": 173,
    "start_time": "2023-08-20T12:29:21.188Z"
   },
   {
    "duration": 8442,
    "start_time": "2023-08-20T12:29:21.363Z"
   },
   {
    "duration": 4,
    "start_time": "2023-08-20T12:29:29.806Z"
   },
   {
    "duration": 108,
    "start_time": "2023-08-20T12:29:29.813Z"
   },
   {
    "duration": 5,
    "start_time": "2023-08-20T12:29:29.922Z"
   },
   {
    "duration": 78,
    "start_time": "2023-08-20T12:29:29.929Z"
   },
   {
    "duration": 648,
    "start_time": "2023-08-20T12:29:30.009Z"
   },
   {
    "duration": 170,
    "start_time": "2023-08-20T12:29:30.659Z"
   }
  ],
  "kernelspec": {
   "display_name": "Python 3 (ipykernel)",
   "language": "python",
   "name": "python3"
  },
  "language_info": {
   "codemirror_mode": {
    "name": "ipython",
    "version": 3
   },
   "file_extension": ".py",
   "mimetype": "text/x-python",
   "name": "python",
   "nbconvert_exporter": "python",
   "pygments_lexer": "ipython3",
   "version": "3.10.9"
  },
  "toc": {
   "base_numbering": 1,
   "nav_menu": {},
   "number_sections": true,
   "sideBar": true,
   "skip_h1_title": true,
   "title_cell": "Содержание",
   "title_sidebar": "Contents",
   "toc_cell": true,
   "toc_position": {
    "height": "calc(100% - 180px)",
    "left": "10px",
    "top": "150px",
    "width": "281px"
   },
   "toc_section_display": true,
   "toc_window_display": true
  }
 },
 "nbformat": 4,
 "nbformat_minor": 2
}
